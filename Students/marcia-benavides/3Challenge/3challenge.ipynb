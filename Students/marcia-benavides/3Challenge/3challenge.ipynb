{
 "cells": [
  {
   "cell_type": "markdown",
   "metadata": {},
   "source": [
    "# Programming Challenge 3 "
   ]
  },
  {
   "cell_type": "markdown",
   "metadata": {},
   "source": [
    "A jar contains 6 marbles blue and 4 red marbles. A total of `x` marbles are drawn from this jar without replacement. Create a method `marble_pick_up()` that returns as an array the color sequence of the selected marbles. For convenience, let 0 denote blue and 1 denote red."
   ]
  },
  {
   "cell_type": "code",
   "execution_count": 1,
   "metadata": {},
   "outputs": [
    {
     "name": "stdout",
     "output_type": "stream",
     "text": [
      "[0 0 0 1 0 1 1 1 0 0]\n"
     ]
    }
   ],
   "source": [
    "import math\n",
    "import random\n",
    "import numpy as np\n",
    "from scipy.stats import bernoulli\n",
    "\n",
    "def marble_pick_up(x=3):\n",
    "    red = 4;\n",
    "    blue = 6;\n",
    "    out = np.zeros(x,int)\n",
    "    for i in range(x):\n",
    "        if (bernoulli.rvs(blue/(red+blue)) == 1):\n",
    "            blue = blue - 1\n",
    "            if (blue < 0); \n",
    "               blue = 0; \n" ,
    "        else:\n",
    "            out[i] = 1; \n",
    "            red = red -1;
    "            if (red < 0); \n" ,
    "                red = 0; \n" ,
    "    return out\n",
    "\n"
    "y = marble_pick_up(10)\n",
    "print(y)\n" ,
    "print(y[9])"
   ]
  },
  {
   "cell_type": "markdown",
   "metadata": {},
   "source": [
    "Turn the experiment above into a method and create a csv file named `3challenge-1.csv` that contains empirical distributions for the color of the last marble in the array. The empirical distributions should be over 10,000 trials, and the number of marbles drawn should vary from 1 to 10 (for `x in range(1,red+blue+1)`). The output file will contain 10 lines (one for every value of `x`), and each line should have two entries."
   ]
  },
  {
   "cell_type": "code",
   "execution_count": 2,
   "metadata": {},
   "outputs": [
    {
     "name": "stdout",
     "output_type": "stream",
     "text": [
      "(0, 2)\n",
      "(10, 2)\n"
     ]
    }
   ],
   "source": [
    "import pandas as pd\n",
    "def distributions_sim1(x):\n",
    "    trial_num = 100\n",
    "    empirical_dist = np.zeros(2)\n",
    "    for trial in range(0, trial_num):\n",
    "        y = marble_pick_up(x);\n",
    "        empirical_dist[y[x-1]] += 1;\n",
    "    empirical_dist = empirical_dist/trial_num;    \n",
    "    return empirical_dist\n",
    "\n",
    "distributions = np.empty((0,2));\n",
    "print(distributions.shape)\n",
    "\n",
    "red = 4;\n",
    "blue = 6;\n",
    "for x in range(1,red+blue+1):\n",
    "    empirical_dist = distributions_sim(x);\n",
    "    distributions = np.append(distributions, [empirical_dist], axis=0);\n",
    "    
    "print(distributions1.shape)\n",
    "\n",
    "# Write output file\n",
    "pd.DataFrame(distributions).to_csv(\"3challenge-1.csv\")"
   ]
  },
  {
   "cell_type": "markdown",
   "metadata": {},
   "source": [
    "Create another csv file named `3challenge-2.csv` that contains the empirical conditional distributions for the last marble selected (red = 1, blue = 0), conditioned on the fact that there was at least one red marble drawn in the previous three draws. Again, the empirical distributions should be over 10,000 trials, but the number of marbles drawn should vary from 4 to 10 (`for x in range(4,red+blue+1)`). The output file will have 8 lines each with two entries (probability that last marble is red conditioned on seeing a red in the preceeding three draws, probability that last marble is blue conditioned on seeing a red in the preceeding three draws)"
   ]
  },
  {
   "cell_type": "code",
   "execution_count": 3,
   "metadata": {},
   "outputs": [
    {
     "name": "stdout",
     "output_type": "stream",
     "text": [
      "(0, 6)\n",
      "(7, 6)\n"
     ]
    }
   ],
   "source": [
    "#Edit\n",
    "# Write output file\n",
    
      "import pandas as pd\n",
    
    "def cond_distributions_sim(x):\n",
    "    trial_num = 10000;\n",
    "    empirical_cond_dist = np.zeros(2);\n",
    "    trials = 0;\n",
    
    "    while trials<trial_num:\n",
    "        y = marble_pick_up(x);\n",
    "        z = y[x-4:x-1];\n",
    "        if (sum(z)>0):\n",
    "            empirical_cond_dist[y[x-1]] += 1;\n",
    "            trials += 1;\n",
    
    "    empirical_cond_dist = empirical_cond_dist/trial_num;    \n",
    "    return empirical_cond_dist\n",
    "\n",
    "cond_distributions = np.empty((0,2));\n",
    "print(cond_distributions.shape)\n",
    "\n",
    
    "red = 4;\n",
    "blue = 6;\n",
    
    "for x in range(4,red+blue+1):\n",
    "    empirical_cond_dist = cond_distributions_sim(x);\n",
    "    cond_distributions = np.append(cond_distributions, [empirical_cond_dist], axis=0);\n",
    "print(cond_distributions.shape)\n",
    "\n",
    
    "pd.DataFrame(cond_distributions).to_csv(\"3challenge-2.csv\")\n",
    "    "
   ]
  }
 ],
 
 "metadata": {
  "kernelspec": {
   "display_name": "Python 3",
   "language": "python",
   "name": "python3"
  },
  "language_info": {
   "codemirror_mode": {
    "name": "ipython",
    "version": 3
   },
   "file_extension": ".py",
   "mimetype": "text/x-python",
   "name": "python",
   "nbconvert_exporter": "python",
   "pygments_lexer": "ipython3",
   "version": "3.6.1"
  }
 },
 "nbformat": 4,
 "nbformat_minor": 2
}
