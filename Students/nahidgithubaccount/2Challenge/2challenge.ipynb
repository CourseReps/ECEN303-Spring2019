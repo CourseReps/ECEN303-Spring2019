{
 "cells": [
  {
   "cell_type": "markdown",
   "metadata": {},
   "source": [
    "# Programming Challenge 2\n",
    "\n",
    "In this [Python](https://www.python.org) challenge, you will create a method called `biased_die_throw()` module to explore conditional probabilities.\n",
    "The bias is on face 6, whereas the other five faces are equally likely.\n",
    "A sample method appears below.\n",
    "\n",
    "## Part 1 – Biased Die"
   ]
  },
  {
   "cell_type": "code",
   "execution_count": 165,
   "metadata": {},
   "outputs": [],
   "source": [
    "import random\n",
    "import math\n",
    "import numpy as np\n",
    "from scipy.stats import bernoulli\n",
    "\n",
    "def biased_die_throw(prob6=0.25):\n",
    "    \"\"\"\n",
    "    This method returns a 6 with probability prob6, and it returns numbers from 1 to 5,\n",
    "    each with probability p = (1 - prob6)/5. The default value is prob6 = 1/4.\"\"\"\n",
    "    if (bernoulli.rvs(prob6)==1):\n",
    "        out = 6\n",
    "    else:\n",
    "        out = np.random.randint(1,6) #EDIT         \n",
    "    return out"
   ]
  },
  {
   "cell_type": "markdown",
   "metadata": {},
   "source": [
    "Consider an experiment where the biased die is thrown until a 6 is obtained.\n",
    "The outcome of this experiment is the number of throws needed to obtain a 6.\n",
    "Construct a method which can return the outcome of this experiment."
   ]
  },
  {
   "cell_type": "code",
   "execution_count": 166,
   "metadata": {},
   "outputs": [],
   "source": [
    "def expt1(p6=0.25):\n",
    "    \"\"\"\n",
    "    This method returns a natural number that denotes the number of die throws needed to obtain a 6. \n",
    "    It relies on the method biased_die_throw().\n",
    "    \"\"\"\n",
    "    num_Throws = 0\n",
    "    while(biased_die_throw(p6)<6): #EDIT\n",
    "        num_Throws += 1 \n",
    "    return num_Throws+1"
   ]
  },
  {
   "cell_type": "markdown",
   "metadata": {},
   "source": [
    "Turn the experiment above into a method and create a csv file that contains the empirical distribution over 10,000 trials for `expt1(p6)` where `p6` ranges from 0.05 to 0.95 (step size 0.05).\n",
    "Your file should have 18 lines, each with 6 entries."
   ]
  },
  {
   "cell_type": "code",
   "execution_count": 187,
   "metadata": {},
   "outputs": [
    {
     "name": "stdout",
     "output_type": "stream",
     "text": [
      "(1, 6)\n",
      "(2, 6)\n",
      "(3, 6)\n",
      "(4, 6)\n",
      "(5, 6)\n",
      "(6, 6)\n",
      "(7, 6)\n",
      "(8, 6)\n",
      "(9, 6)\n",
      "(10, 6)\n",
      "(11, 6)\n",
      "(12, 6)\n",
      "(13, 6)\n",
      "(14, 6)\n",
      "(15, 6)\n",
      "(16, 6)\n",
      "(17, 6)\n",
      "(18, 6)\n"
     ]
    }
   ],
   "source": [
    "import pandas as pd\n",
    "\n",
    "# EDIT\n",
    "def distribution_sim(prob=0.05,trials_num=10000,vec_length=6):\n",
    "    empirical_dist = np.zeros(vec_length)\n",
    "    trials = 0\n",
    "    while trials<trials_num:\n",
    "        num_throws = expt1(prob)\n",
    "        if (num_throws<=6):\n",
    "            empirical_dist[num_throws-1] += 1\n",
    "            trials +=1\n",
    "    empirical_dist = empirical_dist/trials_num\n",
    "    return empirical_dist\n",
    "\n",
    "trials_num=10000\n",
    "vec_length=6\n",
    "distributions = np.empty((0, vec_length))\n",
    "interval = np.arange(0.05,0.95,0.05)  \n",
    "for prob in interval:\n",
    "    empirical_dist = distribution_sim(prob,trials_num,vec_length)\n",
    "    distributions = np.append(distributions, [empirical_dist], axis=0)\n",
    "    print(distributions.shape)\n",
    "    \n",
    "# Write output file\n",
    "pd.DataFrame(distributions).to_csv(\"2challenge-1.csv\")"
   ]
  },
  {
   "cell_type": "markdown",
   "metadata": {},
   "source": [
    "## Part 2 – Two Competing Dice\n",
    "\n",
    "Consider a scenario where two dice are rolled.\n",
    "One die is biased (with default `p6`) and the other die unbiased (`p6=1/6`).\n",
    "An experiment is conducted where the two dice are rolled repetitively until at least one of them shows 6.\n",
    "The outcome of this experiment should be 0 when the unbiased die shows a six (but not the other die); it should be 1 when the biased die shows a six (but not the other die), and it should be a 2 when both dice show 6 as their value.\n",
    "Construct a method which can return the outcome of this experiment."
   ]
  },
  {
   "cell_type": "code",
   "execution_count": 188,
   "metadata": {},
   "outputs": [],
   "source": [
    "def expt2(p6=0.25):\n",
    "    \"\"\"\n",
    "    This method returns a natural number that denotes the number of die throws needed to obtain a 6. \n",
    "    It relies on the method biased_die_throw().\n",
    "    \"\"\"\n",
    "    num_Throws = 0\n",
    "    Flag = 0\n",
    "    while (Flag==0):#EDIT\n",
    "        d1 = biased_die_throw(prob6=p6)\n",
    "        d2 = np.random.randint(1,7)\n",
    "        if (d1==6 or d2==6):\n",
    "            Flag = 1\n",
    "            if (d1<6):\n",
    "                out = 0\n",
    "            elif (d2<6):\n",
    "                out = 1\n",
    "            else:\n",
    "                out = 2\n",
    "        else:\n",
    "            num_Throws += 1 \n",
    "    return out"
   ]
  },
  {
   "cell_type": "markdown",
   "metadata": {},
   "source": [
    "Turn the experiment above into a method and create a csv file that contains the empirical distribution over 10,000 trials for `expt2(p6)` where `p6` ranges from 0.05 to 0.95 (step size 0.05).\n",
    "Your file should have 18 lines, each with 3 entries."
   ]
  },
  {
   "cell_type": "code",
   "execution_count": 189,
   "metadata": {},
   "outputs": [
    {
     "name": "stdout",
     "output_type": "stream",
     "text": [
      "(1, 3)\n",
      "(2, 3)\n",
      "(3, 3)\n",
      "(4, 3)\n",
      "(5, 3)\n",
      "(6, 3)\n",
      "(7, 3)\n",
      "(8, 3)\n",
      "(9, 3)\n",
      "(10, 3)\n",
      "(11, 3)\n",
      "(12, 3)\n",
      "(13, 3)\n",
      "(14, 3)\n",
      "(15, 3)\n",
      "(16, 3)\n",
      "(17, 3)\n",
      "(18, 3)\n"
     ]
    }
   ],
   "source": [
    "# EDIT\n",
    "import pandas as pd\n",
    "\n",
    "# EDIT\n",
    "def distribution_sim_2(p6=0.05,trials_num=10000,vec_length=3):\n",
    "    empirical_dist = np.zeros(vec_length)\n",
    "    trials = 0\n",
    "    while trials<trials_num:\n",
    "        out = expt2(p6)\n",
    "        empirical_dist[out] += 1\n",
    "        trials +=1\n",
    "    empirical_dist = empirical_dist/trials_num\n",
    "    return empirical_dist\n",
    "\n",
    "trials_num=10000\n",
    "vec_length=3\n",
    "distributions = np.empty((0, vec_length))\n",
    "interval = np.arange(0.05,0.95,0.05)  \n",
    "for p6 in interval:\n",
    "    empirical_dist = distribution_sim_2(p6,trials_num,vec_length)\n",
    "    distributions = np.append(distributions, [empirical_dist], axis=0)\n",
    "    print(distributions.shape)\n",
    "    \n",
    "# Write output file\n",
    "pd.DataFrame(distributions).to_csv(\"2challenge-2.csv\")"
   ]
  }
 ],
 "metadata": {
  "kernelspec": {
   "display_name": "Python 3",
   "language": "python",
   "name": "python3"
  },
  "language_info": {
   "codemirror_mode": {
    "name": "ipython",
    "version": 3
   },
   "file_extension": ".py",
   "mimetype": "text/x-python",
   "name": "python",
   "nbconvert_exporter": "python",
   "pygments_lexer": "ipython3",
   "version": "3.7.1"
  }
 },
 "nbformat": 4,
 "nbformat_minor": 2
}
