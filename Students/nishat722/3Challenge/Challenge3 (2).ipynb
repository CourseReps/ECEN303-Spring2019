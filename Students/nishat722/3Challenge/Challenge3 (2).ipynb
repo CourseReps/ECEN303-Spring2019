{
 "cells": [
  {
   "cell_type": "code",
   "execution_count": 54,
   "metadata": {},
   "outputs": [
    {
     "name": "stdout",
     "output_type": "stream",
     "text": [
      "[0 1 1 0 0 1 0 0 1 0]\n"
     ]
    }
   ],
   "source": [
    "import math\n",
    "import random\n",
    "import numpy as np\n",
    "from scipy.stats import bernoulli\n",
    "\n",
    "def marble_pick_up(x=3):\n",
    "    red = 4;\n",
    "    blue = 6;\n",
    "    out = np.zeros(x,int)\n",
    "    for i in range(x):\n",
    "        if (bernoulli.rvs(blue/(red+blue)) == 1):\n",
    "            out[i] = 0;\n",
    "            blue = blue - 1; ##no replacement\n",
    "        else: \n",
    "            out[i] = 1;\n",
    "            red = red - 1; ##no replacement\n",
    "    return out\n",
    "y = marble_pick_up(10)\n",
    "print(y)"
   ]
  },
  {
   "cell_type": "code",
   "execution_count": 73,
   "metadata": {},
   "outputs": [
    {
     "name": "stdout",
     "output_type": "stream",
     "text": [
      "(0, 2)\n",
      "(10, 2)\n"
     ]
    }
   ],
   "source": [
    "import pandas as pd\n",
    "def distributions_sim(x):\n",
    "    trial_num = 10000; ##10k trials\n",
    "    empirical_dist = np.zeros(2);\n",
    "    for trial in range(0, trial_num):\n",
    "        outcome = marble_pick_up(x);\n",
    "        \n",
    "        empirical_dist[outcome] += 1;\n",
    "        empirical_dist = empirical_dist/2\n",
    "    return empirical_dist\n",
    "\n",
    "distributions = np.empty((0,2));\n",
    "print(distributions.shape)\n",
    "\n",
    "red = 4;\n",
    "blue = 6;\n",
    "for x in range(1,red+blue+1):\n",
    "    empirical_dist = distributions_sim(x);\n",
    "    distributions = np.append(distributions, [empirical_dist], axis=0);\n",
    "print(distributions.shape)\n",
    "pd.DataFrame(distributions).to_csv(\"3challenge-1.csv\")"
   ]
  },
  {
   "cell_type": "code",
   "execution_count": 76,
   "metadata": {},
   "outputs": [
    {
     "name": "stdout",
     "output_type": "stream",
     "text": [
      "(0, 2)\n",
      "(1, 2)\n",
      "(2, 2)\n",
      "(3, 2)\n",
      "(4, 2)\n",
      "(5, 2)\n",
      "(6, 2)\n",
      "(7, 2)\n"
     ]
    }
   ],
   "source": [
    "#Edit\n",
    "import pandas as pd\n",
    "def emp_con_dist_sim(x):\n",
    "    trial_num2 = 10000\n",
    "    empirical_dist2 = np.zeros(2);\n",
    "    for trial in range(0, trial_num2):\n",
    "        outcome2 = marble_pick_up(x);\n",
    "        empirical_dist2[outcome2[x-3]] += 1;\n",
    "        empirical_dist2 = empirical_dist2/2\n",
    "    return empirical_dist2\n",
    "        \n",
    "        \n",
    "        \n",
    "distributions2 = np.empty((0,2));\n",
    "print(distributions2.shape)\n",
    "\n",
    "red = 4;\n",
    "blue = 6;\n",
    "for x in range(4,red+blue+1):\n",
    "    empirical_dist2 = emp_con_dist_sim(x);\n",
    "    distributions2 = np.append(distributions2, [empirical_dist2], axis=0);\n",
    "    print(distributions2.shape)\n",
    "# Write output file\n",
    "pd.DataFrame(distributions2).to_csv(\"3challenge-2.csv\")"
   ]
  },
  {
   "cell_type": "code",
   "execution_count": null,
   "metadata": {},
   "outputs": [],
   "source": []
  }
 ],
 "metadata": {
  "kernelspec": {
   "display_name": "Python 3",
   "language": "python",
   "name": "python3"
  },
  "language_info": {
   "codemirror_mode": {
    "name": "ipython",
    "version": 3
   },
   "file_extension": ".py",
   "mimetype": "text/x-python",
   "name": "python",
   "nbconvert_exporter": "python",
   "pygments_lexer": "ipython3",
   "version": "3.7.1"
  }
 },
 "nbformat": 4,
 "nbformat_minor": 2
}
