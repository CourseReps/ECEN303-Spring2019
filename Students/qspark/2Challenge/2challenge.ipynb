import random
import math
from scipy.stats import bernoulli
import pandas as pd
import numpy

def biased_die_throw(prob6=0.25):
	
	if (bernoulli(prob6) == 1):
		out = 6
	else:
		out = random.randint(1,6)	
	return out

def expt1(p6=0.25):
	
	num_Throws = 0
	while(biased_die_throw(0.25) < 6):
		num_Throws += 1
	return num_Throws

distributions = []
for p6 in numpy.arange (0.05, 1.0, 0.05):
	#test increment print(p6)
	row = numpy.zeros(6)
	for i in range (0,6):
		row[i] = expt1(p6)
	distributions.append(row)

pd.DataFrame(distributions).to_csv("2challenge-1.csv")


def expt2(p6=0.25):

	num_Throws = 0
	result = 5 # random integar greater than 5
	r1=0
	r2=0
	
	while (r1!=6 and r2!=6):
		r1=biased_die_throw(0.25)
		r2=random.randint(1,7)
		if(r1==6 and r2==6):
			result = 2
		elif(r1==6 or r2 ==6):
			result = 1
		else:
			result = 0

	return num_Throws,r1,r2

distributions = []
for p6 in numpy.arange(0.05, 1.0, 0.05):
#	row = numpy.zeros(3) # causes array error...
	row = [0,0,0]
	for i in range(0,3):
		row[i] = expt2(p6)
	distributions.append(row)

pd.DataFrame(distributions).to_csv("2challenge-2.csv")
