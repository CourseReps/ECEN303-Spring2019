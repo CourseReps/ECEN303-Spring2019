import random
import math
from scipy.stats import bernoulli
import pandas as pd
import numpy

def biased_die_throw(prob6=0.25):
	
	if (bernoulli(prob6) == 1):
		out = 6
	else:
		out = random.randint(1,6)	
	return out

def expt1(p6=0.25):
	
	num_Throws = 0
	while(biased_die_throw(0.25) < 6):
		num_Throws += 1
	return num_Throws

def ed(p):

	tempED = numpy.zeros(6)
	p = 0.05

 	for p in numpy.arange (0.05, 1.0, 0.05):
		for trial in range (1,10000):
			# testing increments print(p)
			num = expt1(p)
			if(num<6):
				tempED[num] += 1

		num = tempED/trial	

	return tempED

ED = ed(0.05)

distributions = numpy.empty((0,6)) # fix data type not understood
distributions = numpy.append(distributions, ED, axis=0)
pd.DataFrame(distrubutions).to_csv("2challnege-1.csv")


def expt2(p6=0.25):

	num_Throws = 0
	result = 5 # random integar greater than 5
	while (result<=2):
	
		r1=biased_die_throw(0.25)
		r2=random.randint(1,7)
		if(r1==6 and r2==6):
			result = 2
		elif(r1==6 or r2 ==6):
			result = 1
		else:
			result = 0

	return num_Throws,r1,r2
