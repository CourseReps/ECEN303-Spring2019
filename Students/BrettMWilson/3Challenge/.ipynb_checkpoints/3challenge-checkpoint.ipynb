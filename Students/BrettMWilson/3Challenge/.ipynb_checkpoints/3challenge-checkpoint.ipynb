{
 "cells": [
  {
   "cell_type": "markdown",
   "metadata": {},
   "source": [
    "# Programming Challenge 3 "
   ]
  },
  {
   "cell_type": "markdown",
   "metadata": {},
   "source": [
    "A jar contains 6 marbles blue and 4 red marbles. A total of `x` marbles are drawn from this jar without replacement. Create a method `marble_pick_up()` that returns as an array the color sequence of the selected marbles. For convenience, let 0 denote blue and 1 denote red."
   ]
  },
  {
   "cell_type": "code",
   "execution_count": 1,
   "metadata": {},
   "outputs": [
    {
     "name": "stdout",
     "output_type": "stream",
     "text": [
      "[1 0 0 0 1 1 0 0 0 1]\n"
     ]
    }
   ],
   "source": [
    "import math\n",
    "import random\n",
    "import numpy as np\n",
    "from scipy.stats import bernoulli\n",
    "\n",
    "def marble_pick_up(x=3):\n",
    "    red = 4;\n",
    "    blue = 6;\n",
    "    out = np.zeros(x,int)\n",
    "    for i in range(x):\n",
    "        if (bernoulli.rvs(blue/(red+blue)) == 1):\n",
    "            blue = blue - 1\n",
    "            #print(blue, \" blue remaining\")\n",
    "        else:\n",
    "            red = red - 1# Edit\n",
    "            #print(red, \"red remaining\")\n",
    "            out[i] = 1\n",
    "    return out\n",
    "y = marble_pick_up(10)\n",
    "print(y)"
   ]
  },
  {
   "cell_type": "markdown",
   "metadata": {},
   "source": [
    "Turn the experiment above into a method and create a csv file named `3challenge-1.csv` that contains empirical distributions for the color of the last marble in the array. The empirical distributions should be over 10,000 trials, and the number of marbles drawn should vary from 1 to 10 (for `x in range(1,red+blue+1)`). The output file will contain 10 lines (one for every value of `x`), and each line should have two entries."
   ]
  },
  {
   "cell_type": "code",
   "execution_count": 2,
   "metadata": {},
   "outputs": [
    {
     "name": "stdout",
     "output_type": "stream",
     "text": [
      "(0, 0)\n",
      "1\n",
      "2\n",
      "3\n",
      "4\n",
      "5\n",
      "6\n",
      "7\n",
      "8\n",
      "9\n",
      "10\n",
      "(10, 2)\n",
      "[[0.6039 0.3961]\n",
      " [0.5943 0.4057]\n",
      " [0.6034 0.3966]\n",
      " [0.5995 0.4005]\n",
      " [0.5971 0.4029]\n",
      " [0.5936 0.4064]\n",
      " [0.5935 0.4065]\n",
      " [0.6008 0.3992]\n",
      " [0.588  0.412 ]\n",
      " [0.6003 0.3997]]\n"
     ]
    }
   ],
   "source": [
    "import pandas as pd\n",
    "def distributions_sim1(x):\n",
    "    trial_num = 10000\n",
    "    empirical_dist = np.zeros(2)\n",
    "    for trial in range(0, trial_num):\n",
    "        marbles = marble_pick_up(x)\n",
    "        if marbles[x-1]:\n",
    "            #print(1)\n",
    "            empirical_dist = np.add(empirical_dist, [0,1/trial_num])\n",
    "            #print(empirical_dist)\n",
    "        else:\n",
    "            #print(0)\n",
    "            empirical_dist = np.add(empirical_dist, [1/trial_num,0])\n",
    "            #print(empirical_dist\n",
    "    #print(empirical_dist)\n",
    "    return empirical_dist\n",
    "\n",
    "# Create an empty horizontal vector\n",
    "distributions1 = np.empty((0,0))\n",
    "print(distributions1.shape)\n",
    "\n",
    "for x in range(10):#Couldn't see red or blue, and 11 is too many marbles\n",
    "    print(x+1)\n",
    "    empirical_dist = distributions_sim1(x+1)\n",
    "    # Add rows to horizontal vector\n",
    "    if x == 0:\n",
    "        distributions1 = empirical_dist\n",
    "    else:\n",
    "        distributions1 = np.append(distributions1, empirical_dist)\n",
    "    #Edit\n",
    "distributions1.shape = (10,2)\n",
    "print(distributions1.shape)\n",
    "print(distributions1)\n",
    "\n",
    "# Write output file\n",
    "pd.DataFrame(distributions1).to_csv(\"3challenge-1.csv\")"
   ]
  },
  {
   "cell_type": "markdown",
   "metadata": {},
   "source": [
    "Create another csv file named `3challenge-2.csv` that contains the empirical conditional distributions for the last marble selected (red = 1, blue = 0), conditioned on the fact that there was at least one red marble drawn in the previous three draws. Again, the empirical distributions should be over 10,000 trials, but the number of marbles drawn should vary from 4 to 10 (`for x in range(4,red+blue+1)`). The output file will have 8 lines each with two entries (probability that last marble is red conditioned on seeing a red in the preceeding three draws, probability that last marble is blue conditioned on seeing a red in the preceeding three draws)"
   ]
  },
  {
   "cell_type": "code",
   "execution_count": 8,
   "metadata": {},
   "outputs": [
    {
     "name": "stdout",
     "output_type": "stream",
     "text": [
      "[0 0 1 0 1 1 1 0 0 0]\n",
      "(0, 0)\n",
      " \n",
      "4\n",
      "[0.6161 0.3839]\n",
      "[0.6161 0.3839]\n",
      " \n",
      "5\n",
      "[0.6237 0.3763]\n",
      "[0.6161 0.3839 0.6237 0.3763]\n",
      " \n",
      "6\n",
      "[0.6299 0.3701]\n",
      "[0.6161 0.3839 0.6237 0.3763 0.6299 0.3701]\n",
      " \n",
      "7\n",
      "[0.6296 0.3704]\n",
      "[0.6161 0.3839 0.6237 0.3763 0.6299 0.3701 0.6296 0.3704]\n",
      " \n",
      "8\n",
      "[0.6276 0.3724]\n",
      "[0.6161 0.3839 0.6237 0.3763 0.6299 0.3701 0.6296 0.3704 0.6276 0.3724]\n",
      " \n",
      "9\n",
      "[0.6231 0.3769]\n",
      "[0.6161 0.3839 0.6237 0.3763 0.6299 0.3701 0.6296 0.3704 0.6276 0.3724\n",
      " 0.6231 0.3769]\n",
      " \n",
      "10\n",
      "[0.6269 0.3731]\n",
      "[0.6161 0.3839 0.6237 0.3763 0.6299 0.3701 0.6296 0.3704 0.6276 0.3724\n",
      " 0.6231 0.3769 0.6269 0.3731]\n",
      " \n",
      "(7, 2)\n",
      "[[0.6161 0.3839]\n",
      " [0.6237 0.3763]\n",
      " [0.6299 0.3701]\n",
      " [0.6296 0.3704]\n",
      " [0.6276 0.3724]\n",
      " [0.6231 0.3769]\n",
      " [0.6269 0.3731]]\n"
     ]
    }
   ],
   "source": [
    "#Edit\n",
    "import math\n",
    "import random\n",
    "import numpy as np\n",
    "from scipy.stats import bernoulli\n",
    "def marblePickupCond(picks = 4):\n",
    "    r = 4\n",
    "    red = 4\n",
    "    blue = 6\n",
    "    out = np.zeros(picks,int)\n",
    "    for i in range(picks):\n",
    "        #print([i,r,red])\n",
    "        if (bernoulli.rvs(red/(red+blue)) == 1 or (i == 2 and red == r)):\n",
    "            red = red -1\n",
    "            out[i] = 1\n",
    "        else:\n",
    "            blue = blue -1 \n",
    "    return out\n",
    "print(marblePickupCond(10))\n",
    "\n",
    "\n",
    "import pandas as pd\n",
    "def distributions_sim2(x):\n",
    "    trial_num = 10000\n",
    "    empirical_dist = np.zeros(2)\n",
    "    for trial in range(0, trial_num):\n",
    "        marbles = marblePickupCond(x)\n",
    "        if marbles[x-1]:\n",
    "            #print(1)\n",
    "            empirical_dist = np.add(empirical_dist, [0,1/trial_num])\n",
    "            #print(empirical_dist)\n",
    "        else:\n",
    "            #print(0)\n",
    "            empirical_dist = np.add(empirical_dist, [1/trial_num,0])\n",
    "            #print(empirical_dist\n",
    "    #print(empirical_dist)\n",
    "    return empirical_dist\n",
    "\n",
    "# Create an empty horizontal vector\n",
    "distributions2 = np.empty((0,0))\n",
    "print(distributions2.shape)\n",
    "print(\" \")\n",
    "\n",
    "for x in range(3,10):\n",
    "    print(x+1)\n",
    "    empirical_dist = distributions_sim2(x+1)\n",
    "    print(empirical_dist)\n",
    "    # Add rows to horizontal vector\n",
    "    if x == 3:\n",
    "        distributions2 = empirical_dist\n",
    "    else:\n",
    "        distributions2 = np.append(distributions2, empirical_dist)\n",
    "    #Edit\n",
    "    print(distributions2)\n",
    "    print(\" \")\n",
    "distributions2.shape = (7,2) # 4-10 gives me 7 lines, not 8\n",
    "print(distributions2.shape)\n",
    "print(distributions2)\n",
    "\n",
    "\n",
    "\n",
    "# Write output file\n",
    "pd.DataFrame(distributions2).to_csv(\"3challenge-2.csv\")\n",
    "    "
   ]
  },
  {
   "cell_type": "code",
   "execution_count": null,
   "metadata": {},
   "outputs": [],
   "source": []
  },
  {
   "cell_type": "code",
   "execution_count": null,
   "metadata": {},
   "outputs": [],
   "source": []
  }
 ],
 "metadata": {
  "kernelspec": {
   "display_name": "Python 3",
   "language": "python",
   "name": "python3"
  },
  "language_info": {
   "codemirror_mode": {
    "name": "ipython",
    "version": 3
   },
   "file_extension": ".py",
   "mimetype": "text/x-python",
   "name": "python",
   "nbconvert_exporter": "python",
   "pygments_lexer": "ipython3",
   "version": "3.7.1"
  }
 },
 "nbformat": 4,
 "nbformat_minor": 2
}
