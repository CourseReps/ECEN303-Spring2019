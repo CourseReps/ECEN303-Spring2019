{
 "cells": [
  {
   "cell_type": "markdown",
   "metadata": {},
   "source": [
    "# Programming Challenge 2\n",
    "\n",
    "In this [Python](https://www.python.org) challenge, you will create a method called `biased_die_throw()` module to explore conditional probabilities.\n",
    "The bias is on face 6, whereas the other five faces are equally likely.\n",
    "A sample method appears below.\n",
    "\n",
    "## Part 1 – Biased Die"
   ]
  },
  {
   "cell_type": "code",
   "execution_count": 1,
   "metadata": {},
   "outputs": [],
   "source": [
    "import random\n",
    "import math\n",
    "from scipy.stats import bernoulli\n",
    "\n",
    "def biased_die_throw(prob6=0.25):\n",
    "    \"\"\"\n",
    "    This method returns a 6 with probability prob6, and it returns numbers from 1 to 5,\n",
    "    each with probability p = (1 - prob6)/5. The default value is prob6 = 1/4.\"\"\"\n",
    "    if (bernoulli(prob6) == 1):\n",
    "        out = 6\n",
    "    else:\n",
    "        r = random.random()\n",
    "        if r > prob6:\n",
    "            out = random.randint(1,5)\n",
    "        else:\n",
    "            out = 6\n",
    "    return out"
   ]
  },
  {
   "cell_type": "markdown",
   "metadata": {},
   "source": [
    "Consider an experiment where the biased die is thrown until a 6 is obtained.\n",
    "The outcome of this experiment is the number of throws needed to obtain a 6.\n",
    "Construct a method which can return the outcome of this experiment."
   ]
  },
  {
   "cell_type": "code",
   "execution_count": 2,
   "metadata": {},
   "outputs": [],
   "source": [
    "def expt1(p6=0.25):\n",
    "    \"\"\"\n",
    "    This method returns a natural number that denotes the number of die throws needed to obtain a 6. \n",
    "    It relies on the method biased_die_throw().\n",
    "    \"\"\"\n",
    "    num_Throws = 0\n",
    "    while(biased_die_throw(p6) != 6):#EDIT\n",
    "        num_Throws += 1 \n",
    "    return num_Throws"
   ]
  },
  {
   "cell_type": "markdown",
   "metadata": {},
   "source": [
    "Turn the experiment above into a method and create a csv file that contains the empirical distribution over 10,000 trials for `expt1(p6)` where `p6` ranges from 0.05 to 0.95 (step size 0.05).\n",
    "Your file should have 18 lines, each with 6 entries."
   ]
  },
  {
   "cell_type": "code",
   "execution_count": 3,
   "metadata": {},
   "outputs": [
    {
     "ename": "IndexError",
     "evalue": "index 49 is out of bounds for axis 0 with size 6",
     "output_type": "error",
     "traceback": [
      "\u001b[1;31m---------------------------------------------------------------------------\u001b[0m",
      "\u001b[1;31mIndexError\u001b[0m                                Traceback (most recent call last)",
      "\u001b[1;32m<ipython-input-3-e16c184a537d>\u001b[0m in \u001b[0;36m<module>\u001b[1;34m\u001b[0m\n\u001b[0;32m     24\u001b[0m \u001b[1;33m\u001b[0m\u001b[0m\n\u001b[0;32m     25\u001b[0m \u001b[1;31m# EDIT\u001b[0m\u001b[1;33m\u001b[0m\u001b[1;33m\u001b[0m\u001b[1;33m\u001b[0m\u001b[0m\n\u001b[1;32m---> 26\u001b[1;33m \u001b[0ma\u001b[0m \u001b[1;33m=\u001b[0m \u001b[0mnp\u001b[0m\u001b[1;33m.\u001b[0m\u001b[0mtranspose\u001b[0m\u001b[1;33m(\u001b[0m\u001b[0mempDist\u001b[0m\u001b[1;33m(\u001b[0m\u001b[1;33m)\u001b[0m\u001b[1;33m)\u001b[0m\u001b[1;33m\u001b[0m\u001b[1;33m\u001b[0m\u001b[0m\n\u001b[0m\u001b[0;32m     27\u001b[0m \u001b[0mdistributions\u001b[0m \u001b[1;33m=\u001b[0m \u001b[1;33m{\u001b[0m\u001b[1;34m'0'\u001b[0m\u001b[1;33m:\u001b[0m \u001b[0ma\u001b[0m\u001b[1;33m[\u001b[0m\u001b[1;36m0\u001b[0m\u001b[1;33m]\u001b[0m\u001b[1;33m,\u001b[0m\u001b[1;34m'1'\u001b[0m\u001b[1;33m:\u001b[0m \u001b[0ma\u001b[0m\u001b[1;33m[\u001b[0m\u001b[1;36m1\u001b[0m\u001b[1;33m]\u001b[0m\u001b[1;33m,\u001b[0m\u001b[1;34m'2'\u001b[0m\u001b[1;33m:\u001b[0m \u001b[0ma\u001b[0m\u001b[1;33m[\u001b[0m\u001b[1;36m2\u001b[0m\u001b[1;33m]\u001b[0m\u001b[1;33m,\u001b[0m\u001b[1;34m'3'\u001b[0m\u001b[1;33m:\u001b[0m \u001b[0ma\u001b[0m\u001b[1;33m[\u001b[0m\u001b[1;36m3\u001b[0m\u001b[1;33m]\u001b[0m\u001b[1;33m,\u001b[0m\u001b[1;34m'4'\u001b[0m\u001b[1;33m:\u001b[0m \u001b[0ma\u001b[0m\u001b[1;33m[\u001b[0m\u001b[1;36m4\u001b[0m\u001b[1;33m]\u001b[0m\u001b[1;33m,\u001b[0m\u001b[1;34m'5'\u001b[0m\u001b[1;33m:\u001b[0m \u001b[0ma\u001b[0m\u001b[1;33m[\u001b[0m\u001b[1;36m5\u001b[0m\u001b[1;33m]\u001b[0m\u001b[1;33m}\u001b[0m\u001b[1;33m\u001b[0m\u001b[1;33m\u001b[0m\u001b[0m\n\u001b[0;32m     28\u001b[0m \u001b[1;33m\u001b[0m\u001b[0m\n",
      "\u001b[1;32m<ipython-input-3-e16c184a537d>\u001b[0m in \u001b[0;36mempDist\u001b[1;34m()\u001b[0m\n\u001b[0;32m     12\u001b[0m         \u001b[1;32mwhile\u001b[0m\u001b[1;33m(\u001b[0m\u001b[0mloop\u001b[0m \u001b[1;33m<\u001b[0m \u001b[1;36m10000\u001b[0m\u001b[1;33m)\u001b[0m\u001b[1;33m:\u001b[0m\u001b[1;33m\u001b[0m\u001b[1;33m\u001b[0m\u001b[0m\n\u001b[0;32m     13\u001b[0m             \u001b[0mx\u001b[0m \u001b[1;33m=\u001b[0m \u001b[0mexpt1\u001b[0m\u001b[1;33m(\u001b[0m\u001b[0mp6\u001b[0m\u001b[1;33m)\u001b[0m\u001b[1;33m\u001b[0m\u001b[1;33m\u001b[0m\u001b[0m\n\u001b[1;32m---> 14\u001b[1;33m             \u001b[0mm\u001b[0m\u001b[1;33m[\u001b[0m\u001b[0mx\u001b[0m\u001b[1;33m]\u001b[0m \u001b[1;33m=\u001b[0m \u001b[0mm\u001b[0m\u001b[1;33m[\u001b[0m\u001b[0mx\u001b[0m\u001b[1;33m]\u001b[0m \u001b[1;33m+\u001b[0m \u001b[1;36m1\u001b[0m\u001b[1;33m\u001b[0m\u001b[1;33m\u001b[0m\u001b[0m\n\u001b[0m\u001b[0;32m     15\u001b[0m             \u001b[0mloop\u001b[0m \u001b[1;33m=\u001b[0m \u001b[0mloop\u001b[0m \u001b[1;33m+\u001b[0m \u001b[1;36m1\u001b[0m\u001b[1;33m\u001b[0m\u001b[1;33m\u001b[0m\u001b[0m\n\u001b[0;32m     16\u001b[0m \u001b[1;33m\u001b[0m\u001b[0m\n",
      "\u001b[1;31mIndexError\u001b[0m: index 49 is out of bounds for axis 0 with size 6"
     ]
    }
   ],
   "source": [
    "import pandas as pd\n",
    "import numpy as np\n",
    "\n",
    "def empDist():\n",
    "    out = np.array([[0,0,0,0,0,0]])\n",
    "    p6 = 0.05\n",
    "    i = 0\n",
    "    while(p6 <= 0.95):\n",
    "        \n",
    "        loop = 0\n",
    "        m = np.zeros(6)\n",
    "        while(loop < 10000):\n",
    "            x = expt1(p6)\n",
    "            m[x] = m[x] + 1\n",
    "            loop = loop + 1\n",
    "        \n",
    "        x = m/loop\n",
    "        out = np.append(out,[x],axis = 0)\n",
    "        i = i+1\n",
    "        p6 = p6 + 0.05\n",
    "    out = np.delete(out,0,axis = 0)\n",
    "    return out\n",
    "        \n",
    "    \n",
    "# EDIT\n",
    "a = np.transpose(empDist())\n",
    "distributions = {'0': a[0],'1': a[1],'2': a[2],'3': a[3],'4': a[4],'5': a[5]}\n",
    "\n",
    "# Write output file\n",
    "pd.DataFrame(distributions).to_csv(\"2challenge-1.csv\")\n"
   ]
  },
  {
   "cell_type": "markdown",
   "metadata": {},
   "source": [
    "## Part 2 – Two Competing Dice\n",
    "\n",
    "Consider a scenario where two dice are rolled.\n",
    "One die is biased (with default `p6`) and the other die unbiased (`p6=1/6`).\n",
    "An experiment is conducted where the two dice are rolled repetitively until at least one of them shows 6.\n",
    "The outcome of this experiment should be 0 when the unbiased die shows a six (but not the other die); it should be 1 when the biased die shows a six (but not the other die), and it should be a 2 when both dice show 6 as their value.\n",
    "Construct a method which can return the outcome of this experiment."
   ]
  },
  {
   "cell_type": "code",
   "execution_count": null,
   "metadata": {},
   "outputs": [],
   "source": [
    "def expt2(p6=0.25):\n",
    "    \"\"\"\n",
    "    This method returns a natural number that denotes the number of die throws needed to obtain a 6. \n",
    "    It relies on the method biased_die_throw().\n",
    "    \"\"\"\n",
    "    num_Throws = 0\n",
    "    out1 = 0\n",
    "    out2 = 0\n",
    "    while (out1 != 1 and out2 != 1):#EDIT\n",
    "        out1 = math.floor(biased_die_throw(1/6)/6)#EDIT\n",
    "        out2 = math.floor(biased_die_throw(p6)/6)#EDIT\n",
    "        num_Throws += 1 \n",
    "    return num_Throws,out1,out2"
   ]
  },
  {
   "cell_type": "markdown",
   "metadata": {},
   "source": [
    "Turn the experiment above into a method and create a csv file that contains the empirical distribution over 10,000 trials for `expt2(p6)` where `p6` ranges from 0.05 to 0.95 (step size 0.05).\n",
    "Your file should have 18 lines, each with 3 entries."
   ]
  },
  {
   "cell_type": "code",
   "execution_count": null,
   "metadata": {},
   "outputs": [],
   "source": [
    "def empDist2():# EDIT\n",
    "    p6 = 0.05\n",
    "    out = [[0,0,0]]\n",
    "    while(p6 <= 0.95):\n",
    "        laps = 0\n",
    "        m = np.zeros(3)\n",
    "        while(laps < 10000):\n",
    "            (x,y,z) = expt2(p6)\n",
    "            if(y>z):\n",
    "                m[0] = m[0]+1\n",
    "            elif(y==z):\n",
    "                m[1] = m[1]+1\n",
    "            else:\n",
    "                m[2] = m[2]+1\n",
    "            laps = laps+1\n",
    "        #end\n",
    "        m = m/laps\n",
    "        out = np.append(out,[m],axis = 0)\n",
    "        p6 = p6+0.05\n",
    "    #end\n",
    "    out = np.delete(out,0,axis = 0)\n",
    "    return out\n",
    "a = np.transpose(empDist2())\n",
    "# Write output file\n",
    "distributions = {'0': a[0],'1': a[1],'2': a[2]}\n",
    "pd.DataFrame(distributions).to_csv(\"2challenge-2.csv\")"
   ]
  },
  {
   "cell_type": "code",
   "execution_count": null,
   "metadata": {},
   "outputs": [],
   "source": []
  }
 ],
 "metadata": {
  "kernelspec": {
   "display_name": "Python 3",
   "language": "python",
   "name": "python3"
  },
  "language_info": {
   "codemirror_mode": {
    "name": "ipython",
    "version": 3
   },
   "file_extension": ".py",
   "mimetype": "text/x-python",
   "name": "python",
   "nbconvert_exporter": "python",
   "pygments_lexer": "ipython3",
   "version": "3.7.1"
  }
 },
 "nbformat": 4,
 "nbformat_minor": 2
}
