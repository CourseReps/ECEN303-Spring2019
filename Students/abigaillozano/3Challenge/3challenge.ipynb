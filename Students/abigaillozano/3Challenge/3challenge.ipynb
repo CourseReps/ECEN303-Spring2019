{
 "cells": [
  {
   "cell_type": "markdown",
   "metadata": {},
   "source": [
    "# Programming Challenge 3 "
   ]
  },
  {
   "cell_type": "markdown",
   "metadata": {},
   "source": [
    "A jar contains 6 marbles blue and 4 red marbles. A total of `x` marbles are drawn from this jar without replacement. Create a method `marble_pick_up()` that returns as an array the color sequence of the selected marbles. For convenience, let 0 denote blue and 1 denote red."
   ]
  },
  {
   "cell_type": "code",
   "execution_count": 4,
   "metadata": {},
   "outputs": [
    {
     "name": "stdout",
     "output_type": "stream",
     "text": [
      "[1 0 0 0 0 0 1 0 1 1]\n"
     ]
    }
   ],
   "source": [
    "import math\n",
    "import random\n",
    "import numpy as np\n",
    "from scipy.stats import bernoulli\n",
    "\n",
    "def marble_pick_up(x):\n",
    "        red = 4\n",
    "        blue = 6\n",
    "        out = np.zeros(x, int)\n",
    "        for i in range(x):\n",
    "            if bernoulli.rvs(blue / (red + blue)) == 1:\n",
    "                blue = blue - 1\n",
    "                out[i]=0\n",
    "            else:\n",
    "                red = red -1\n",
    "                out[i]=1\n",
    "        return out\n",
    "y = marble_pick_up(10)\n",
    "print(y)"
   ]
  },
  {
   "cell_type": "markdown",
   "metadata": {},
   "source": [
    "Turn the experiment above into a method and create a csv file named `3challenge-1.csv` that contains empirical distributions for the color of the last marble in the array. The empirical distributions should be over 10,000 trials, and the number of marbles drawn should vary from 1 to 10 (for `x in range(1,red+blue+1)`). The output file will contain 10 lines (one for every value of `x`), and each line should have two entries."
   ]
  },
  {
   "cell_type": "code",
   "execution_count": 16,
   "metadata": {},
   "outputs": [
    {
     "name": "stdout",
     "output_type": "stream",
     "text": [
      "(0, 1)\n"
     ]
    },
    {
     "ename": "ZeroDivisionError",
     "evalue": "division by zero",
     "output_type": "error",
     "traceback": [
      "\u001b[1;31m---------------------------------------------------------------------------\u001b[0m",
      "\u001b[1;31mZeroDivisionError\u001b[0m                         Traceback (most recent call last)",
      "\u001b[1;32m<ipython-input-16-525b32608d4a>\u001b[0m in \u001b[0;36m<module>\u001b[1;34m\u001b[0m\n\u001b[0;32m     32\u001b[0m \u001b[0mprint\u001b[0m\u001b[1;33m(\u001b[0m\u001b[0mdistributions1\u001b[0m\u001b[1;33m.\u001b[0m\u001b[0mshape\u001b[0m\u001b[1;33m)\u001b[0m\u001b[1;33m\u001b[0m\u001b[1;33m\u001b[0m\u001b[0m\n\u001b[0;32m     33\u001b[0m \u001b[1;32mfor\u001b[0m \u001b[0mxx\u001b[0m \u001b[1;32min\u001b[0m \u001b[0mrange\u001b[0m\u001b[1;33m(\u001b[0m\u001b[0mred\u001b[0m\u001b[1;33m+\u001b[0m\u001b[0mblue\u001b[0m\u001b[1;33m+\u001b[0m\u001b[1;36m1\u001b[0m\u001b[1;33m)\u001b[0m\u001b[1;33m:\u001b[0m \u001b[1;31m# Red(4) + Blue(6) + 1\u001b[0m\u001b[1;33m\u001b[0m\u001b[1;33m\u001b[0m\u001b[0m\n\u001b[1;32m---> 34\u001b[1;33m     \u001b[0mempirical_dist\u001b[0m \u001b[1;33m=\u001b[0m \u001b[0mdistributions_sim1\u001b[0m\u001b[1;33m(\u001b[0m\u001b[0mxx\u001b[0m\u001b[1;33m+\u001b[0m\u001b[1;36m1\u001b[0m\u001b[1;33m)\u001b[0m\u001b[1;33m\u001b[0m\u001b[1;33m\u001b[0m\u001b[0m\n\u001b[0m\u001b[0;32m     35\u001b[0m     \u001b[0mnp\u001b[0m\u001b[1;33m.\u001b[0m\u001b[0mappend\u001b[0m\u001b[1;33m(\u001b[0m\u001b[0mdistributions\u001b[0m\u001b[1;33m,\u001b[0m\u001b[0mempirical_dist\u001b[0m\u001b[1;33m)\u001b[0m\u001b[1;33m\u001b[0m\u001b[1;33m\u001b[0m\u001b[0m\n\u001b[0;32m     36\u001b[0m \u001b[0mprint\u001b[0m\u001b[1;33m(\u001b[0m\u001b[0mdistributions\u001b[0m\u001b[1;33m.\u001b[0m\u001b[0mshape\u001b[0m\u001b[1;33m)\u001b[0m\u001b[1;33m\u001b[0m\u001b[1;33m\u001b[0m\u001b[0m\n",
      "\u001b[1;32m<ipython-input-16-525b32608d4a>\u001b[0m in \u001b[0;36mdistributions_sim1\u001b[1;34m(xx)\u001b[0m\n\u001b[0;32m     23\u001b[0m         \u001b[0mrunning_total\u001b[0m \u001b[1;33m=\u001b[0m \u001b[1;36m0\u001b[0m\u001b[1;33m\u001b[0m\u001b[1;33m\u001b[0m\u001b[0m\n\u001b[0;32m     24\u001b[0m         \u001b[1;32mfor\u001b[0m \u001b[0mtrial\u001b[0m \u001b[1;32min\u001b[0m \u001b[0mrange\u001b[0m\u001b[1;33m(\u001b[0m\u001b[1;36m0\u001b[0m\u001b[1;33m,\u001b[0m \u001b[0mtrial_num\u001b[0m\u001b[1;33m)\u001b[0m\u001b[1;33m:\u001b[0m\u001b[1;33m\u001b[0m\u001b[1;33m\u001b[0m\u001b[0m\n\u001b[1;32m---> 25\u001b[1;33m             \u001b[0mresult\u001b[0m \u001b[1;33m=\u001b[0m \u001b[0mmarble_pick_up1\u001b[0m\u001b[1;33m(\u001b[0m\u001b[0mxx\u001b[0m\u001b[1;33m)\u001b[0m\u001b[1;33m\u001b[0m\u001b[1;33m\u001b[0m\u001b[0m\n\u001b[0m\u001b[0;32m     26\u001b[0m             \u001b[0mrunning_total\u001b[0m \u001b[1;33m+=\u001b[0m \u001b[0mresult\u001b[0m\u001b[1;33m[\u001b[0m\u001b[0mxx\u001b[0m\u001b[1;33m-\u001b[0m\u001b[1;36m1\u001b[0m\u001b[1;33m]\u001b[0m\u001b[1;33m\u001b[0m\u001b[1;33m\u001b[0m\u001b[0m\n\u001b[0;32m     27\u001b[0m             \u001b[0mempirical_dist\u001b[0m\u001b[1;33m[\u001b[0m\u001b[1;36m1\u001b[0m\u001b[1;33m]\u001b[0m \u001b[1;33m=\u001b[0m \u001b[0mrunning_total\u001b[0m\u001b[1;33m/\u001b[0m\u001b[1;36m10000\u001b[0m\u001b[1;33m\u001b[0m\u001b[1;33m\u001b[0m\u001b[0m\n",
      "\u001b[1;32m<ipython-input-16-525b32608d4a>\u001b[0m in \u001b[0;36mmarble_pick_up1\u001b[1;34m(xx)\u001b[0m\n\u001b[0;32m      7\u001b[0m         \u001b[0mout\u001b[0m \u001b[1;33m=\u001b[0m \u001b[0mnp\u001b[0m\u001b[1;33m.\u001b[0m\u001b[0mzeros\u001b[0m\u001b[1;33m(\u001b[0m\u001b[0mxx\u001b[0m\u001b[1;33m,\u001b[0m \u001b[0mint\u001b[0m\u001b[1;33m)\u001b[0m\u001b[1;33m\u001b[0m\u001b[1;33m\u001b[0m\u001b[0m\n\u001b[0;32m      8\u001b[0m         \u001b[1;32mfor\u001b[0m \u001b[0mi\u001b[0m \u001b[1;32min\u001b[0m \u001b[0mrange\u001b[0m\u001b[1;33m(\u001b[0m\u001b[0mxx\u001b[0m\u001b[1;33m)\u001b[0m\u001b[1;33m:\u001b[0m\u001b[1;33m\u001b[0m\u001b[1;33m\u001b[0m\u001b[0m\n\u001b[1;32m----> 9\u001b[1;33m             \u001b[1;32mif\u001b[0m \u001b[0mbernoulli\u001b[0m\u001b[1;33m.\u001b[0m\u001b[0mrvs\u001b[0m\u001b[1;33m(\u001b[0m\u001b[0mblue\u001b[0m \u001b[1;33m/\u001b[0m \u001b[1;33m(\u001b[0m\u001b[0mred\u001b[0m \u001b[1;33m+\u001b[0m \u001b[0mblue\u001b[0m\u001b[1;33m)\u001b[0m\u001b[1;33m)\u001b[0m \u001b[1;33m==\u001b[0m \u001b[1;36m1\u001b[0m\u001b[1;33m:\u001b[0m\u001b[1;33m\u001b[0m\u001b[1;33m\u001b[0m\u001b[0m\n\u001b[0m\u001b[0;32m     10\u001b[0m                 \u001b[0mblue\u001b[0m \u001b[1;33m=\u001b[0m \u001b[0mblue\u001b[0m \u001b[1;33m-\u001b[0m \u001b[1;36m1\u001b[0m\u001b[1;33m\u001b[0m\u001b[1;33m\u001b[0m\u001b[0m\n\u001b[0;32m     11\u001b[0m                 \u001b[0mout\u001b[0m\u001b[1;33m[\u001b[0m\u001b[0mi\u001b[0m\u001b[1;33m]\u001b[0m\u001b[1;33m=\u001b[0m\u001b[1;36m0\u001b[0m\u001b[1;33m\u001b[0m\u001b[1;33m\u001b[0m\u001b[0m\n",
      "\u001b[1;31mZeroDivisionError\u001b[0m: division by zero"
     ]
    }
   ],
   "source": [
    "import pandas as pd\n",
    "red = 4\n",
    "blue = 6\n",
    "def marble_pick_up1(xx):\n",
    "        red = 4\n",
    "        blue = 6\n",
    "        out = np.zeros(xx, int)\n",
    "        for i in range(xx):\n",
    "            if bernoulli.rvs(blue / (red + blue)) == 1:\n",
    "                blue = blue - 1\n",
    "                out[i]=0\n",
    "            else:\n",
    "                red = red -1\n",
    "                out[i]=1\n",
    "        return out\n",
    "\n",
    "\n",
    "\n",
    "def distributions_sim1(xx):\n",
    "        trial_num = 10000\n",
    "        empirical_dist = np.zeros(2)  # array of two 0s\n",
    "        empirical_dist[0] = xx\n",
    "        running_total = 0 \n",
    "        for trial in range(0, trial_num):\n",
    "            result = marble_pick_up1(xx)\n",
    "            running_total += result[xx-1]\n",
    "            empirical_dist[1] = running_total/10000\n",
    "        return empirical_dist\n",
    "\n",
    "# Create an empty horizontal vector\n",
    "distributions = np.empty((0, 1))\n",
    "print(distributions1.shape)\n",
    "for xx in range(red+blue+1): # Red(4) + Blue(6) + 1\n",
    "    empirical_dist = distributions_sim1(xx+1)\n",
    "    np.append(distributions,empirical_dist)   \n",
    "print(distributions.shape)\n",
    "distributions1 = [distributions] \n",
    "# Write output file\n",
    "pd.DataFrame(distributions1).to_csv(\"3challenge-1.csv\")"
   ]
  },
  {
   "cell_type": "markdown",
   "metadata": {},
   "source": [
    "Create another csv file named `3challenge-2.csv` that contains the empirical conditional distributions for the last marble selected (red = 1, blue = 0), conditioned on the fact that there was at least one red marble drawn in the previous three draws. Again, the empirical distributions should be over 10,000 trials, but the number of marbles drawn should vary from 4 to 10 (`for x in range(4,red+blue+1)`). The output file will have 8 lines each with two entries (probability that last marble is red conditioned on seeing a red in the preceeding three draws, probability that last marble is blue conditioned on seeing a red in the preceeding three draws)"
   ]
  },
  {
   "cell_type": "code",
   "execution_count": 3,
   "metadata": {},
   "outputs": [
    {
     "name": "stdout",
     "output_type": "stream",
     "text": [
      "(0, 6)\n",
      "(7, 6)\n"
     ]
    }
   ],
   "source": [
    "#Edit\n",
    "# Write output file\n",
    "pd.DataFrame(distributions2).to_csv(\"3challenge-2.csv\")\n",
    "    "
   ]
  }
 ],
 "metadata": {
  "kernelspec": {
   "display_name": "Python 3",
   "language": "python",
   "name": "python3"
  },
  "language_info": {
   "codemirror_mode": {
    "name": "ipython",
    "version": 3
   },
   "file_extension": ".py",
   "mimetype": "text/x-python",
   "name": "python",
   "nbconvert_exporter": "python",
   "pygments_lexer": "ipython3",
   "version": "3.7.1"
  }
 },
 "nbformat": 4,
 "nbformat_minor": 2
}
