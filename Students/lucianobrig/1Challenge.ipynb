{
 "cells": [
  {
   "cell_type": "code",
   "execution_count": 26,
   "metadata": {},
   "outputs": [
    {
     "name": "stdout",
     "output_type": "stream",
     "text": [
      "(0, 11)\n",
      "(1, 11)\n",
      "(2, 11)\n",
      "(3, 11)\n",
      "(4, 11)\n",
      "(5, 11)\n",
      "(6, 11)\n",
      "(7, 11)\n",
      "(8, 11)\n",
      "(9, 11)\n",
      "(10, 11)\n",
      "(11, 11)\n",
      "(12, 11)\n",
      "(13, 11)\n",
      "(14, 11)\n",
      "(15, 11)\n",
      "(16, 11)\n",
      "(17, 11)\n",
      "(18, 11)\n",
      "(19, 11)\n"
     ]
    },
    {
     "data": {
      "image/png": "[encoded data removed]",
      "text/plain": [
       "<Figure size 432x288 with 1 Axes>"
      ]
     },
     "metadata": {
      "needs_background": "light"
     },
     "output_type": "display_data"
    }
   ],
   "source": [
    "import numpy as np\n",
    "import pandas as pd\n",
    "import matplotlib.pyplot as plt\n",
    "import random\n",
    "import array\n",
    "\n",
    "def integersequence(num_outcomes=2,vec_length=1):\n",
    "    # Return random integers from 0 to high (exclusive)\n",
    "    #\n",
    "    outcome = []\n",
    "    for index in range(vec_length):\n",
    "        outcome.append(random.randint(0,num_outcomes))\n",
    "    return outcome\n",
    "\n",
    "\n",
    "def distribution_sim(num_outcomes_ds=2,vec_length_ds=10):\n",
    "    # Returns emmpirical distribution\n",
    "    trial_num_ds = 10000\n",
    "    vec_length = vec_length_ds\n",
    "    empirical_dist_ds = np.zeros(vec_length_ds+1)\n",
    "\n",
    "    for trial in range(0, trial_num_ds):\n",
    "        outcome_ds = integersequence(num_outcomes_ds,vec_length_ds) # EDIT\n",
    "        count_ones_ds = outcome_ds.count(1)\n",
    "        empirical_dist_ds[count_ones_ds] += 1\n",
    "\n",
    "    empirical_dist_ds = empirical_dist_ds/trial_num_ds\n",
    "    return empirical_dist_ds\n",
    "\n",
    "# Create an empty horizontal vector\n",
    "distributions = np.empty((0, vec_length+1))\n",
    "print(distributions.shape)\n",
    "\n",
    "for num_outcomes in range(2,21):\n",
    "    empirical_dist = distribution_sim(2,10)\n",
    "    # Add rows to horizontal vector\n",
    "    distributions = np.append(distributions, [empirical_dist], axis=0)\n",
    "    print(distributions.shape)\n",
    "\n",
    "# I added the graph so I could see the points\n",
    "plt.bar(range(0,11),empirical_dist)\n",
    "plt.show()\n",
    "\n",
    "# Write output file\n",
    "pd.DataFrame(distributions).to_csv(\"1challenge.csv\")"
   ]
  },
  {
   "cell_type": "code",
   "execution_count": null,
   "metadata": {},
   "outputs": [],
   "source": []
  }
 ],
 "metadata": {
  "kernelspec": {
   "display_name": "Python 3",
   "language": "python",
   "name": "python3"
  },
  "language_info": {
   "codemirror_mode": {
    "name": "ipython",
    "version": 3
   },
   "file_extension": ".py",
   "mimetype": "text/x-python",
   "name": "python",
   "nbconvert_exporter": "python",
   "pygments_lexer": "ipython3",
   "version": "3.7.1"
  }
 },
 "nbformat": 4,
 "nbformat_minor": 2
}
