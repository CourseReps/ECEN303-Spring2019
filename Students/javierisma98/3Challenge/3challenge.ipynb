{
 "cells": [
  {
   "cell_type": "markdown",
   "metadata": {},
   "source": [
    "# Programming Challenge 3 "
   ]
  },
  {
   "cell_type": "markdown",
   "metadata": {},
   "source": [
    "A jar contains 6 marbles blue and 4 red marbles. A total of `x` marbles are drawn from this jar without replacement. Create a method `marble_pick_up()` that returns as an array the color sequence of the selected marbles. For convenience, let 0 denote blue and 1 denote red."
   ]
  },
  {
   "cell_type": "code",
   "execution_count": 17,
   "metadata": {},
   "outputs": [
    {
     "name": "stdout",
     "output_type": "stream",
     "text": [
      "[1 1 0 1 0 1 0 0 0 0]\n"
     ]
    }
   ],
   "source": [
    "import math\n",
    "import random\n",
    "import numpy as np\n",
    "from scipy.stats import bernoulli\n",
    "\n",
    "def marble_pick_up(x):\n",
    "    red = 4;\n",
    "    blue = 6;\n",
    "    out = np.zeros(x,int)\n",
    "    for i in range(x):\n",
    "        if (bernoulli.rvs(blue/(red+blue)) == 1):\n",
    "            blue = blue - 1\n",
    "            out[i] = 0\n",
    "        else:\n",
    "            red = red - 1\n",
    "            out[i] = 1\n",
    "    return out\n",
    "y = marble_pick_up(10)\n",
    "print(y)"
   ]
  },
  {
   "cell_type": "markdown",
   "metadata": {},
   "source": [
    "Turn the experiment above into a method and create a csv file named `3challenge-1.csv` that contains empirical distributions for the color of the last marble in the array. The empirical distributions should be over 10,000 trials, and the number of marbles drawn should vary from 1 to 10 (for `x in range(1,red+blue+1)`). The output file will contain 10 lines (one for every value of `x`), and each line should have two entries."
   ]
  },
  {
   "cell_type": "code",
   "execution_count": 25,
   "metadata": {},
   "outputs": [
    {
     "name": "stdout",
     "output_type": "stream",
     "text": [
      "(0, 2)\n",
      "(10, 2)\n"
     ]
    }
   ],
   "source": [
    "import pandas as pd\n",
    "def distributions_sim1(x):\n",
    "    trial_num = 10000\n",
    "    empirical_dist = np.zeros(2)\n",
    "    for trial in range(0, trial_num):\n",
    "        y = marble_pick_up(x);\n",
    "        empirical_dist[y[x-1]] += 1;\n",
    "    empirical_dist = empirical_dist / trial_num\n",
    "    return empirical_dist\n",
    "\n",
    "# Create an empty horizontal vector\n",
    "distributions1 = np.empty((0,2))\n",
    "print(distributions1.shape)\n",
    "\n",
    "red = 4;\n",
    "blue = 6;\n",
    "\n",
    "for x in range(1, red+blue+1):\n",
    "    empirical_dist = distributions_sim1(x)\n",
    "    distributions1 = np.append(distributions1, [empirical_dist], axis=0)\n",
    "print(distributions1.shape)\n",
    "\n",
    "# Write output file\n",
    "pd.DataFrame(distributions1).to_csv(\"3challenge-1.csv\")"
   ]
  },
  {
   "cell_type": "markdown",
   "metadata": {},
   "source": [
    "Create another csv file named `3challenge-2.csv` that contains the empirical conditional distributions for the last marble selected (red = 1, blue = 0), conditioned on the fact that there was at least one red marble drawn in the previous three draws. Again, the empirical distributions should be over 10,000 trials, but the number of marbles drawn should vary from 4 to 10 (`for x in range(4,red+blue+1)`). The output file will have 8 lines each with two entries (probability that last marble is red conditioned on seeing a red in the preceeding three draws, probability that last marble is blue conditioned on seeing a red in the preceeding three draws)"
   ]
  },
  {
   "cell_type": "code",
   "execution_count": 27,
   "metadata": {},
   "outputs": [
    {
     "name": "stdout",
     "output_type": "stream",
     "text": [
      "(7, 2)\n"
     ]
    }
   ],
   "source": [
    "def conditional_distributions_sim(x):\n",
    "    trial_num = 10000\n",
    "    cond_empirical_dist = np.zeros(2)\n",
    "    trials = 0;\n",
    "    while (trials < trial_num):\n",
    "        y = marble_pick_up(x);\n",
    "        last3 = y[x-4:x-2];\n",
    "        if (sum(last3) > 0):\n",
    "            cond_empirical_dist[y[x-1]] += 1;\n",
    "            trials += 1;\n",
    "    cond_empirical_dist = cond_empirical_dist/trial_num;\n",
    "    return cond_empirical_dist\n",
    "\n",
    "distributions2 = np.empty((0,2))\n",
    "\n",
    "red = 4;\n",
    "blue = 6;\n",
    "\n",
    "for x in range(4, red+blue+1):\n",
    "    cond_empirical_dist = conditional_distributions_sim(x)\n",
    "    distributions2 = np.append(distributions2, [cond_empirical_dist], axis=0)\n",
    "print(distributions2.shape)\n",
    "\n",
    "# Write output file\n",
    "pd.DataFrame(distributions2).to_csv(\"3challenge-2.csv\")\n",
    "    "
   ]
  },
  {
   "cell_type": "code",
   "execution_count": null,
   "metadata": {},
   "outputs": [],
   "source": []
  }
 ],
 "metadata": {
  "kernelspec": {
   "display_name": "Python 3",
   "language": "python",
   "name": "python3"
  },
  "language_info": {
   "codemirror_mode": {
    "name": "ipython",
    "version": 3
   },
   "file_extension": ".py",
   "mimetype": "text/x-python",
   "name": "python",
   "nbconvert_exporter": "python",
   "pygments_lexer": "ipython3",
   "version": "3.7.1"
  }
 },
 "nbformat": 4,
 "nbformat_minor": 2
}
