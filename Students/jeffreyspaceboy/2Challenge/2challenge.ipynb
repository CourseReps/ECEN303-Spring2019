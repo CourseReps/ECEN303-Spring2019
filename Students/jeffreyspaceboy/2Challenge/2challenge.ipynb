{
 "cells": [
  {
   "cell_type": "markdown",
   "metadata": {},
   "source": [
    "# Programming Challenge 2\n",
    "\n",
    "In this [Python](https://www.python.org) challenge, you will create a method called `biased_die_throw()` module to explore conditional probabilities.\n",
    "The bias is on face 6, whereas the other five faces are equally likely.\n",
    "A sample method appears below.\n",
    "\n",
    "## Part 1 – Biased Die"
   ]
  },
  {
   "cell_type": "code",
   "execution_count": 1159,
   "metadata": {},
   "outputs": [
    {
     "data": {
      "text/plain": [
       "6"
      ]
     },
     "execution_count": 1159,
     "metadata": {},
     "output_type": "execute_result"
    }
   ],
   "source": [
    "import random\n",
    "import math\n",
    "from scipy.stats import bernoulli\n",
    "\"\"\"This method returns a 6 with probability prob6, and it returns numbers from 1 to 5,\n",
    "    each with probability p = (1 - prob6)/5. The default value is prob6 = 1/4.\"\"\"\n",
    "def biased_die_throw(prob6=0.25):\n",
    "    if (bernoulli.rvs(prob6) == 1):\n",
    "        out = 6 \n",
    "    else:\n",
    "        out = random.randint(1,5)\n",
    "    return out\n",
    "\n",
    "biased_die_throw()"
   ]
  },
  {
   "cell_type": "markdown",
   "metadata": {},
   "source": [
    "Consider an experiment where the biased die is thrown until a 6 is obtained.\n",
    "The outcome of this experiment is the number of throws needed to obtain a 6.\n",
    "Construct a method which can return the outcome of this experiment."
   ]
  },
  {
   "cell_type": "code",
   "execution_count": 1160,
   "metadata": {},
   "outputs": [
    {
     "data": {
      "text/plain": [
       "2"
      ]
     },
     "execution_count": 1160,
     "metadata": {},
     "output_type": "execute_result"
    }
   ],
   "source": [
    "\"\"\"This method returns a natural number that denotes the number of die throws needed to obtain a 6. \n",
    "It relies on the method biased_die_throw().\"\"\"\n",
    "def expt1(p6=0.25):\n",
    "    num_Throws = 1\n",
    "    while(biased_die_throw(p6) != 6):\n",
    "        num_Throws += 1\n",
    "    return num_Throws\n",
    "expt1()"
   ]
  },
  {
   "cell_type": "code",
   "execution_count": null,
   "metadata": {},
   "outputs": [],
   "source": []
  },
  {
   "cell_type": "raw",
   "metadata": {},
   "source": [
    "Turn the experiment above into a method and create a csv file that contains the empirical distribution over 10,000 trials for `expt1(p6)` where `p6` ranges from 0.05 to 0.95 (step size 0.05).\n",
    "Your file should have 18 lines, each with 6 entries."
   ]
  },
  {
   "cell_type": "code",
   "execution_count": 1166,
   "metadata": {},
   "outputs": [],
   "source": [
    "import pandas as pd\n",
    "import numpy as np\n",
    "distributions = []\n",
    "for p6 in np.arange(0.05,0.95,0.05):\n",
    "    row = [0,0,0,0,0,0]\n",
    "    for i in range(0,6):\n",
    "        row[i] = expt1(p6)\n",
    "    distributions.append(row)\n",
    "pd.DataFrame(distributions).to_csv(\"2challenge-1.csv\")"
   ]
  },
  {
   "cell_type": "markdown",
   "metadata": {},
   "source": [
    "## Part 2 – Two Competing Dice\n",
    "\n",
    "Consider a scenario where two dice are rolled.\n",
    "One die is biased (with default `p6`) and the other die unbiased (`p6=1/6`).\n",
    "An experiment is conducted where the two dice are rolled repetitively until at least one of them shows 6.\n",
    "The outcome of this experiment should be 0 when the unbiased die shows a six (but not the other die); it should be 1 when the biased die shows a six (but not the other die), and it should be a 2 when both dice show 6 as their value.\n",
    "Construct a method which can return the outcome of this experiment."
   ]
  },
  {
   "cell_type": "code",
   "execution_count": 1162,
   "metadata": {},
   "outputs": [
    {
     "data": {
      "text/plain": [
       "(2, 0)"
      ]
     },
     "execution_count": 1162,
     "metadata": {},
     "output_type": "execute_result"
    }
   ],
   "source": [
    "\"\"\"This method returns a natural number that denotes the number of die throws needed to obtain a 6. \n",
    "It relies on the method biased_die_throw().\"\"\"\n",
    "def expt2(p6=0.25):\n",
    "    num_Throws = 1\n",
    "    D1 = 0\n",
    "    D2 = 0\n",
    "    while (D1 != 6 and D2 != 6):\n",
    "        D1 = biased_die_throw(p6)\n",
    "        D2 = biased_die_throw((1/6))\n",
    "        num_Throws += 1\n",
    "    if(D1!=6 and D2==6):\n",
    "        out = 0\n",
    "    elif(D1==6 and D2!=6):\n",
    "        out = 1\n",
    "    else:\n",
    "        out = 2\n",
    "    return num_Throws,out\n",
    "expt2()"
   ]
  },
  {
   "cell_type": "markdown",
   "metadata": {},
   "source": [
    "Turn the experiment above into a method and create a csv file that contains the empirical distribution over 10,000 trials for `expt2(p6)` where `p6` ranges from 0.05 to 0.95 (step size 0.05).\n",
    "Your file should have 18 lines, each with 3 entries."
   ]
  },
  {
   "cell_type": "code",
   "execution_count": 1165,
   "metadata": {},
   "outputs": [],
   "source": [
    "import pandas as pd\n",
    "import numpy as np\n",
    "distributions = []\n",
    "for p6 in np.arange(0.05,0.95,0.05):\n",
    "    row = [0,0,0]\n",
    "    for i in range(0,3):\n",
    "        row[i] = expt2(p6)\n",
    "    distributions.append(row)\n",
    "pd.DataFrame(distributions).to_csv(\"2challenge-2.csv\")"
   ]
  }
 ],
 "metadata": {
  "kernelspec": {
   "display_name": "Python 3",
   "language": "python",
   "name": "python3"
  },
  "language_info": {
   "codemirror_mode": {
    "name": "ipython",
    "version": 3
   },
   "file_extension": ".py",
   "mimetype": "text/x-python",
   "name": "python",
   "nbconvert_exporter": "python",
   "pygments_lexer": "ipython3",
   "version": "3.7.0"
  }
 },
 "nbformat": 4,
 "nbformat_minor": 2
}
