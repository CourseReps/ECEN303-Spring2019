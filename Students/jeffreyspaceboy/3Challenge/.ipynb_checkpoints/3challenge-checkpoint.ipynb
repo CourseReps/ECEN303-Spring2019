{
 "cells": [
  {
   "cell_type": "markdown",
   "metadata": {},
   "source": [
    "# Programming Challenge 3 "
   ]
  },
  {
   "cell_type": "markdown",
   "metadata": {},
   "source": [
    "A jar contains 6 marbles blue and 4 red marbles. A total of `x` marbles are drawn from this jar without replacement. Create a method `marble_pick_up()` that returns as an array the color sequence of the selected marbles. For convenience, let 0 denote blue and 1 denote red."
   ]
  },
  {
   "cell_type": "code",
   "execution_count": 117,
   "metadata": {},
   "outputs": [
    {
     "name": "stdout",
     "output_type": "stream",
     "text": [
      "[0 1 0 0]\n",
      "0.6666666666666666\n",
      "0.3333333333333333\n"
     ]
    }
   ],
   "source": [
    "import math\n",
    "import random\n",
    "import numpy as np\n",
    "from scipy.stats import bernoulli\n",
    "    \n",
    "def marble_pick_up(x=3):\n",
    "    red = 4\n",
    "    blue = 6\n",
    "    out = np.zeros(x,int)\n",
    "    #print(out)\n",
    "    for i in range(x):\n",
    "        if red+blue != 0:\n",
    "            if (bernoulli.rvs(blue/(red+blue)) == 1):\n",
    "                blue = blue - 1\n",
    "                out[i] = 0\n",
    "            else:\n",
    "                red = red - 1\n",
    "                out[i] = 1\n",
    "        else:\n",
    "            red = red - 1\n",
    "            out[i] = 1\n",
    "    return out\n",
    "\n",
    "numRed = 0\n",
    "numBlue = 0\n",
    "if y[-2] == 1:\n",
    "    numRed += 1 \n",
    "else:\n",
    "    numBlue += 1 \n",
    "if y[-3] == 1:\n",
    "    numRed += 1 \n",
    "else:\n",
    "    numBlue += 1 \n",
    "if y[-4] == 1:\n",
    "    numRed += 1 \n",
    "else:\n",
    "    numBlue += 1 \n",
    "\n",
    "\n",
    "pLastBlue = numBlue/(numRed+numBlue)\n",
    "pLastRed = numRed/(numRed+numBlue)\n",
    "    \n",
    "y = marble_pick_up(10)\n",
    "\n",
    "print(y)"
   ]
  },
  {
   "cell_type": "raw",
   "metadata": {},
   "source": [
    "Turn the experiment above into a method and create a csv file named `3challenge-1.csv` that contains empirical distributions for the color of the last marble in the array. The empirical distributions should be over 10,000 trials, and the number of marbles drawn should vary from 1 to 10 (for `x in range(1,red+blue+1)`). The output file will contain 10 lines (one for every value of `x`), and each line should have two entries."
   ]
  },
  {
   "cell_type": "code",
   "execution_count": 98,
   "metadata": {},
   "outputs": [
    {
     "name": "stdout",
     "output_type": "stream",
     "text": [
      "(0, 2)\n",
      "(10, 2)\n",
      "[[ 1.  1.]\n",
      " [ 2.  0.]\n",
      " [ 3.  0.]\n",
      " [ 4.  1.]\n",
      " [ 5.  0.]\n",
      " [ 6.  1.]\n",
      " [ 7.  1.]\n",
      " [ 8.  0.]\n",
      " [ 9.  0.]\n",
      " [10.  0.]]\n",
      "10000\n"
     ]
    }
   ],
   "source": [
    "import pandas as pd\n",
    "global totalTrials\n",
    "totalTrials = 0 \n",
    "def distributions_sim1(x):\n",
    "    global totalTrials\n",
    "    trial_num = 1000\n",
    "    empirical_dist = np.zeros(2)\n",
    "    for trial in range(0, trial_num):\n",
    "        \n",
    "        y = marble_pick_up(x)\n",
    "        lastMarble = y[-1] \n",
    "        empirical_dist =  [x, lastMarble]\n",
    "    #print(empirical_dist)\n",
    "    totalTrials += 1000\n",
    "    return empirical_dist\n",
    "\n",
    "# Create an empty horizontal vector\n",
    "distributions1 = np.empty((0,2))\n",
    "print(distributions1.shape)\n",
    "\n",
    "for x in range(red+blue):\n",
    "    # Add rows to horizontal vector\n",
    "    distributions1 = np.vstack([distributions1, distributions_sim1(x+1)])\n",
    "    #Edit\n",
    "print(distributions1.shape)\n",
    "print(distributions1)\n",
    "print(totalTrials)\n",
    "\n",
    "# Write output file\n",
    "pd.DataFrame(distributions1).to_csv(\"3challenge-1.csv\")"
   ]
  },
  {
   "cell_type": "markdown",
   "metadata": {},
   "source": [
    "Create another csv file named `3challenge-2.csv` that contains the empirical conditional distributions for the last marble selected (red = 1, blue = 0), conditioned on the fact that there was at least one red marble drawn in the previous three draws. Again, the empirical distributions should be over 10,000 trials, but the number of marbles drawn should vary from 4 to 10 (`for x in range(4,red+blue+1)`). The output file will have 8 lines each with two entries (probability that last marble is red conditioned on seeing a red in the preceeding three draws, probability that last marble is blue conditioned on seeing a red in the preceeding three draws)"
   ]
  },
  {
   "cell_type": "code",
   "execution_count": 95,
   "metadata": {},
   "outputs": [
    {
     "name": "stdout",
     "output_type": "stream",
     "text": [
      "(0, 2)\n",
      "(8, 2)\n",
      "[[ 4.  1.]\n",
      " [ 5.  1.]\n",
      " [ 6.  0.]\n",
      " [ 7.  0.]\n",
      " [ 8.  1.]\n",
      " [ 9.  0.]\n",
      " [10.  0.]\n",
      " [11.  1.]]\n",
      "8000\n"
     ]
    }
   ],
   "source": [
    "global totalTrials2\n",
    "totalTrials2 = 0\n",
    "def distributions_sim2(x):\n",
    "    global totalTrials2\n",
    "    trial_num = 1000\n",
    "    empirical_dist = np.zeros(2)\n",
    "    for trial in range(0, trial_num):\n",
    "        \n",
    "        y = marble_pick_up(x)\n",
    "        pastThree = [y[-2],y[-3],y[-4]]\n",
    "        pLastRed = \n",
    "        pLastBlue = []\n",
    "        \n",
    "        \n",
    "        empirical_dist =  [x, lastMarble]\n",
    "    #print(empirical_dist)\n",
    "    totalTrials2 += 1000\n",
    "    return empirical_dist\n",
    "\n",
    "\n",
    "\n",
    "# Create an empty horizontal vector\n",
    "distributions2 = np.empty((0,2))\n",
    "print(distributions2.shape)\n",
    "\n",
    "for x in range(4-1,red+blue+1):\n",
    "    # Add rows to horizontal vector\n",
    "    distributions2 = np.vstack([distributions2, distributions_sim2(x+1)])\n",
    "    #Edit\n",
    "print(distributions2.shape)\n",
    "print(distributions2)\n",
    "print(totalTrials2)\n",
    "\n",
    "# Write output file\n",
    "pd.DataFrame(distributions2).to_csv(\"3challenge-2.csv\")\n",
    "    "
   ]
  }
 ],
 "metadata": {
  "kernelspec": {
   "display_name": "Python 3",
   "language": "python",
   "name": "python3"
  },
  "language_info": {
   "codemirror_mode": {
    "name": "ipython",
    "version": 3
   },
   "file_extension": ".py",
   "mimetype": "text/x-python",
   "name": "python",
   "nbconvert_exporter": "python",
   "pygments_lexer": "ipython3",
   "version": "3.7.0"
  }
 },
 "nbformat": 4,
 "nbformat_minor": 2
}
