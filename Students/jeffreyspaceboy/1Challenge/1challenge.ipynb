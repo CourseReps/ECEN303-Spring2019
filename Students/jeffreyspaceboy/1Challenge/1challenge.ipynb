{
 "cells": [
  {
   "cell_type": "markdown",
   "metadata": {},
   "source": [
    "# Programming Challenge 1\n",
    "\n",
    "This [Python](https://www.python.org) challenge will use the `numpy.random` module to generate pseudo random numbers.\n",
    "Remember to import this module whenever needed."
   ]
  },
  {
   "cell_type": "code",
   "execution_count": 3,
   "metadata": {},
   "outputs": [],
   "source": [
    "import numpy as np\n",
    "import pandas as pd\n",
    "import matplotlib.pyplot as plt\n",
    "from random import *"
   ]
  },
  {
   "cell_type": "markdown",
   "metadata": {},
   "source": [
    "Write a method to simulate the selection of an element from a collection of consecutive integers.\n",
    "It should return random integers from zero to `num_outcomes` (exclusive)."
   ]
  },
  {
   "cell_type": "code",
   "execution_count": 4,
   "metadata": {
    "scrolled": false
   },
   "outputs": [
    {
     "data": {
      "text/plain": [
       "[1, 1, 0, 2, 2, 0, 1, 2, 0, 2]"
      ]
     },
     "execution_count": 4,
     "metadata": {},
     "output_type": "execute_result"
    }
   ],
   "source": [
    "def integersequence(num_outcomes=2,vec_length=1):\n",
    "    # Return random integers from 0 to high (exclusive)\n",
    "    #\n",
    "    outcome = []\n",
    "    for index in range(vec_length):\n",
    "        x = randint(0,num_outcomes)\n",
    "        outcome.append(x) # EDIT\n",
    "    return outcome\n",
    "\n",
    "integersequence(2,10)"
   ]
  },
  {
   "cell_type": "markdown",
   "metadata": {},
   "source": [
    "Create a numerical simulation that call this method in a loop 10,000 times.\n",
    "Using a loop, compute the empirical distribution for the number of ones contained in `integersequence(5,10)`."
   ]
  },
  {
   "cell_type": "code",
   "execution_count": 29,
   "metadata": {},
   "outputs": [
    {
     "data": {
      "image/png": "[encoded data removed]",
      "text/plain": [
       "<Figure size 432x288 with 1 Axes>"
      ]
     },
     "metadata": {
      "needs_background": "light"
     },
     "output_type": "display_data"
    }
   ],
   "source": [
    "trial_num = 10000\n",
    "num_outcomes = 5\n",
    "vec_length = 10\n",
    "empirical_dist = np.zeros(vec_length+1)\n",
    "\n",
    "for trial in range(0, trial_num):\n",
    "    # Computes empirical distribution of ones\n",
    "    #\n",
    "    outcome = integersequence(num_outcomes,vec_length) #[1]*vec_length # EDIT\n",
    "    count_ones = outcome.count(1)\n",
    "    empirical_dist[count_ones] += 1\n",
    "empirical_dist = empirical_dist/trial_num\n",
    "\n",
    "plt.bar(range(0,11),empirical_dist)\n",
    "plt.show()"
   ]
  },
  {
   "cell_type": "markdown",
   "metadata": {},
   "source": [
    "Turn the example above into a method and create a `csv` file that contains the empirical distribution over 10,000 trials for `integersequence(arg,10)` where `arg` ranges from two to 20."
   ]
  },
  {
   "cell_type": "code",
   "execution_count": 40,
   "metadata": {},
   "outputs": [
    {
     "name": "stdout",
     "output_type": "stream",
     "text": [
      "(0, 11)\n",
      "(1, 11)\n",
      "(2, 11)\n",
      "(3, 11)\n",
      "(4, 11)\n",
      "(5, 11)\n",
      "(6, 11)\n",
      "(7, 11)\n",
      "(8, 11)\n",
      "(9, 11)\n",
      "(10, 11)\n",
      "(11, 11)\n",
      "(12, 11)\n",
      "(13, 11)\n",
      "(14, 11)\n",
      "(15, 11)\n",
      "(16, 11)\n",
      "(17, 11)\n",
      "(18, 11)\n",
      "(19, 11)\n"
     ]
    }
   ],
   "source": [
    "def distribution_sim(num_outcomes_ds=2,vec_length_ds=10):\n",
    "    # Returns emmpirical distribution\n",
    "    trial_num_ds = 10000\n",
    "    empirical_dist_ds = np.zeros(vec_length_ds+1)\n",
    "\n",
    "    for trial in range(0, trial_num_ds):\n",
    "        outcome_ds = integersequence(num_outcomes_ds,vec_length_ds) #[1]*vec_length # EDIT\n",
    "        count_ones_ds = outcome_ds.count(1)\n",
    "        empirical_dist_ds[count_ones_ds] += 1\n",
    "\n",
    "    empirical_dist_ds = empirical_dist_ds/trial_num_ds\n",
    "    return empirical_dist_ds\n",
    "\n",
    "# Create an empty horizontal vector\n",
    "distributions = np.empty((0, vec_length+1))\n",
    "print(distributions.shape)\n",
    "\n",
    "for num_outcomes in range(2,21):\n",
    "    empirical_dist = distribution_sim(2,10)\n",
    "    # Add rows to horizontal vector\n",
    "    distributions = np.append(distributions, [empirical_dist], axis=0)\n",
    "    print(distributions.shape)\n",
    "\n",
    "# Write output file\n",
    "pd.DataFrame(distributions).to_csv(\"1challenge.csv\")"
   ]
  },
  {
   "cell_type": "markdown",
   "metadata": {},
   "source": [
    "Can you write a program to see how long, on average, it will take you to see a one as a function of the number of possible outcomes 'num_outcomes'?"
   ]
  },
  {
   "cell_type": "code",
   "execution_count": 164,
   "metadata": {},
   "outputs": [
    {
     "name": "stdout",
     "output_type": "stream",
     "text": [
      "21.52\n"
     ]
    }
   ],
   "source": [
    "avgTakes = 0\n",
    "num_outcomes_ds=2\n",
    "vec_length_ds=10\n",
    "\n",
    "def runTake(num_outcomes_ds,vec_length_ds): \n",
    "    takesForOne = 0\n",
    "    for test in range(0,100): \n",
    "        takesForOne += 1 \n",
    "        number = integersequence(num_outcomes,vec_length) \n",
    "        if number[0] == 1: \n",
    "            return takesForOne\n",
    "    return takesForOne\n",
    "for Tests in range(100): \n",
    "    avgTakes += runTake(2,10) \n",
    "avgTakes/=100 \n",
    "print(avgTakes)"
   ]
  }
 ],
 "metadata": {
  "kernelspec": {
   "display_name": "Python 3",
   "language": "python",
   "name": "python3"
  },
  "language_info": {
   "codemirror_mode": {
    "name": "ipython",
    "version": 3
   },
   "file_extension": ".py",
   "mimetype": "text/x-python",
   "name": "python",
   "nbconvert_exporter": "python",
   "pygments_lexer": "ipython3",
   "version": "3.7.0"
  }
 },
 "nbformat": 4,
 "nbformat_minor": 2
}
