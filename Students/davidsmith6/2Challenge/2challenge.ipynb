{
 "cells": [
  {
   "cell_type": "markdown",
   "metadata": {},
   "source": [
    "# Programming Challenge 2\n",
    "\n",
    "In this [Python](https://www.python.org) challenge, you will create a method called `biased_die_throw()` module to explore conditional probabilities.\n",
    "The bias is on face 6, whereas the other five faces are equally likely.\n",
    "A sample method appears below.\n",
    "\n",
    "## Part 1 – Biased Die"
   ]
  },
  {
   "cell_type": "code",
   "execution_count": null,
   "metadata": {},
   "outputs": [],
   "source": [
    "import random\n",
    "import math\n",
    "from scipy.stats import bernoulli\n",
    "\n",
    "def biased_die_throw(prob6=0.25):\n",
    "    \"\"\"\n",
    "    This method returns a 6 with probability prob6, and it returns numbersl from 1 to 5,\n",
    "    each with probability p = (1 - prob6)/5. The default value is prob6 = 1/4.\"\"\"\n",
    "    if (bernoulli.rvs(prob6) == 1):\n",
    "        out = 6\n",
    "\n",
    "    else:\n",
    "        out = random.randint(1,5)\n",
    "        \n",
    "    return out"
   ]
  },
  {
   "cell_type": "markdown",
   "metadata": {},
   "source": [
    "Consider an experiment where the biased die is thrown until a 6 is obtained.\n",
    "The outcome of this experiment is the number of throws needed to obtain a 6.\n",
    "Construct a method which can return the outcome of this experiment."
   ]
  },
  {
   "cell_type": "code",
   "execution_count": null,
   "metadata": {},
   "outputs": [],
   "source": [
    "def expt1(p6=0.25):\n",
    "    \"\"\"\n",
    "    This method returns a natural number that denotes the number of die throws needed to obtain a 6. \n",
    "    It relies on the method biased_die_throw().\n",
    "    \"\"\"\n",
    "    num_Throws = 0\n",
    "    while(biased_die_throw(p6) <= 6): #EDIT\n",
    "        num_Throws = 1 + num_Throws\n",
    "    return num_Throws\n"
   ]
  },
  {
   "cell_type": "markdown",
   "metadata": {},
   "source": [
    "Turn the experiment above into a method and create a csv file that contains the empirical distribution over 10,000 trials for `expt1(p6)` where `p6` ranges from 0.05 to 0.95 (step size 0.05).\n",
    "Your file should have 18 lines, each with 6 entries."
   ]
  },
  {
   "cell_type": "code",
   "execution_count": null,
   "metadata": {},
   "outputs": [],
   "source": [
    "import pandas as pd\n",
    "import array\n",
    "import numpy as np\n",
    "distributions = []\n",
    "p6 = 0.05\n",
    "f = open(\"2challenge-1.csv\", \"a\")\n",
    "while (p6 <=.95):\n",
    "    values = expt1()\n",
    "    distributions.append(values)\n",
    "    p6 += .05    \n",
    "    # EDIT\n",
    "    # Write output file    \n",
    "pd.DataFrame(distributions).to_csv(\"2challenge-1.csv\")\n",
    "    "
   ]
  },
  {
   "cell_type": "markdown",
   "metadata": {},
   "source": [
    "## Part 2 – Two Competing Dice\n",
    "\n",
    "Consider a scenario where two dice are rolled.\n",
    "One die is biased (with default `p6`) and the other die unbiased (`p6=1/6`).\n",
    "An experiment is conducted where the two dice are rolled repetitively until at least one of them shows 6.\n",
    "The outcome of this experiment should be 0 when the unbiased die shows a six (but not the other die); it should be 1 when the biased die shows a six (but not the other die), and it should be a 2 when both dice show 6 as their value.\n",
    "Construct a method which can return the outcome of this experiment."
   ]
  },
  {
   "cell_type": "code",
   "execution_count": null,
   "metadata": {},
   "outputs": [],
   "source": [
    "def expt2(p6=0.25):\n",
    "    \"\"\"\n",
    "    This method returns a natural number that denotes the number of die throws needed to obtain a 6. \n",
    "    It relies on the method biased_die_throw().\n",
    "    \"\"\"\n",
    "    out1=0\n",
    "    out2=0\n",
    "    num_Throws = 0\n",
    "    while (biased_die_throw()<6):#EDIT\n",
    "        out1 = 1  #EDIT\n",
    "        out2 = 1  #EDIT\n",
    "        num_Throws += 1 \n",
    "    return num_Throws,out1,out2"
   ]
  },
  {
   "cell_type": "markdown",
   "metadata": {},
   "source": [
    "Turn the experiment above into a method and create a csv file that contains the empirical distribution over 10,000 trials for `expt2(p6)` where `p6` ranges from 0.05 to 0.95 (step size 0.05).\n",
    "Your file should have 18 lines, each with 3 entries."
   ]
  },
  {
   "cell_type": "code",
   "execution_count": null,
   "metadata": {},
   "outputs": [],
   "source": [
    "# EDIT\n",
    "p6 = 0.05\n",
    "distributions = []\n",
    "f = open(\"2challenge-2.csv\", \"a\")\n",
    "while (p6 <=.95):\n",
    "    values2 = expt2()\n",
    "    distributions.append(values2)\n",
    "    p6 += .05    \n",
    "# Write output file\n",
    "pd.DataFrame(distributions).to_csv(\"2challenge-2.csv\")"
   ]
  },
  {
   "cell_type": "code",
   "execution_count": null,
   "metadata": {},
   "outputs": [],
   "source": []
  },
  {
   "cell_type": "code",
   "execution_count": null,
   "metadata": {},
   "outputs": [],
   "source": []
  },
  {
   "cell_type": "code",
   "execution_count": null,
   "metadata": {},
   "outputs": [],
   "source": []
  }
 ],
 "metadata": {
  "kernelspec": {
   "display_name": "Python 3",
   "language": "python",
   "name": "python3"
  },
  "language_info": {
   "codemirror_mode": {
    "name": "ipython",
    "version": 3
   },
   "file_extension": ".py",
   "mimetype": "text/x-python",
   "name": "python",
   "nbconvert_exporter": "python",
   "pygments_lexer": "ipython3",
   "version": "3.7.2"
  }
 },
 "nbformat": 4,
 "nbformat_minor": 2
}
