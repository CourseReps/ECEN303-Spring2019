{
 "cells": [
  {
   "cell_type": "markdown",
   "metadata": {},
   "source": [
    "## Challenge 4: Binary Detection "
   ]
  },
  {
   "cell_type": "markdown",
   "metadata": {},
   "source": [
    "In this problem, you are given data which contains realisations of a 2D random variable `Y`. These realisations are obtained from one of two different Gaussian distributions.\n",
    "Several samples have been determined to belong to Distribution 0 or Distribution 1, and they have been labeled accordingly.\n",
    "With the the help of this labeled data, we wish to label the unlabelled data."
   ]
  },
  {
   "cell_type": "code",
   "execution_count": 1,
   "metadata": {},
   "outputs": [],
   "source": [
    "import pandas as pd\n",
    "import numpy as np\n",
    "import matplotlib.pyplot as plt"
   ]
  },
  {
   "cell_type": "markdown",
   "metadata": {},
   "source": [
    "The first step is to import data from the given file.\n",
    "We import it as three parts: training data for Distribution 0, training data for Distribution 1 and the unlabeled test data."
   ]
  },
  {
   "cell_type": "code",
   "execution_count": 2,
   "metadata": {},
   "outputs": [],
   "source": [
    "df = pd.read_csv(\"4challenge.csv\")\n",
    "df0 = df.loc[df['label'] == 0.0]\n",
    "df1 = df.loc[df['label'] == 1.0]\n",
    "dftest = df.loc[~((df['label'] == 0.0) | (df['label'] == 1.0))]"
   ]
  },
  {
   "cell_type": "markdown",
   "metadata": {},
   "source": [
    "One can use the data in their original Pandas DataFrame format, or one can transform these objects into Numpy-arrays."
   ]
  },
  {
   "cell_type": "code",
   "execution_count": 3,
   "metadata": {},
   "outputs": [],
   "source": [
    "TrainingData0 = df0.values\n",
    "TrainingData1 = df1.values\n",
    "TestData = dftest.values"
   ]
  },
  {
   "cell_type": "markdown",
   "metadata": {},
   "source": [
    "It may be helpful to visualize the data."
   ]
  },
  {
   "cell_type": "code",
   "execution_count": 4,
   "metadata": {},
   "outputs": [
    {
     "data": {
      "image/png": "[encoded data removed]",
      "text/plain": [
       "<Figure size 432x288 with 1 Axes>"
      ]
     },
     "metadata": {
      "needs_background": "light"
     },
     "output_type": "display_data"
    }
   ],
   "source": [
    "plt.plot(TrainingData0[:,0], TrainingData0[:,1], 'x', color='r')\n",
    "plt.plot(TrainingData1[:,0], TrainingData1[:,1], 'x', color='b')\n",
    "plt.plot(TestData[:,0], TestData[:,1], 'o', color='k')\n",
    "plt.axis('equal')\n",
    "plt.show()"
   ]
  },
  {
   "cell_type": "markdown",
   "metadata": {},
   "source": [
    "Define a function to return the mean and covariance of the given data.\n",
    "Then, define a function that can detect wether a given data point belongs to Distribution 0 or Distribution 1.\n",
    "This latter function should take a data point, the mean and covariance of Distribution 0, the mean and covariance of Distribution 1, and a threshold as input and returns the label.\n",
    "\n",
    "We detect the distribution by first calculating the likelihoods of the data point belonging to each distributions.\n",
    "That is, assuming that the data point belongs to Distribution `i` , what is the probability of its occurence?\n",
    "We calculate this using the PDF of a multivariate normal distribution with the mean and covariance of the corresponding distributions.\n",
    "Finally, we take the ratio of these likelihoods and, depending whether the ratio is greater or less than our threshold, we select one distribution as our guess."
   ]
  },
  {
   "cell_type": "code",
   "execution_count": 5,
   "metadata": {},
   "outputs": [],
   "source": [
    "def  estimate(X):  #X is trainng data \n",
    "    #Note Training Data has a Column named Label which should not be considered for Mean and Covariance Calculations\n",
    "    Mean = np.mean(X)#Edit\n",
    "    Covar = np.cov(X)#Edit\n",
    "    return Mean, Covar"
   ]
  },
  {
   "cell_type": "code",
   "execution_count": 17,
   "metadata": {},
   "outputs": [],
   "source": [
    "from scipy.stats import multivariate_normal as mvnorm\n",
    "def detect(X,M0,V0,M1,V1,threshold):\n",
    "    L0 = mvnorm.pdf(M0)#EDIT\n",
    "    L1 = mvnorm.pdf(M1)#EDIT\n",
    "    ratio = L0/L1\n",
    "    if ratio < threshold:  #EDIT\n",
    "        d = L0 #EDIT\n",
    "    else:\n",
    "        d = L1 #EDIT\n",
    "    return d\n"
   ]
  },
  {
   "cell_type": "markdown",
   "metadata": {},
   "source": [
    "Now use these above functions and create a new dataframe with appropriate labels for the data points."
   ]
  },
  {
   "cell_type": "code",
   "execution_count": 18,
   "metadata": {},
   "outputs": [],
   "source": [
    "M0,V0 = estimate(TrainingData0)#EDIT\n",
    "M1,V1 = estimate(TrainingData1)#EDIT\n",
    "threshold = 1\n",
    "if TestData.size != 0:\n",
    "    decision = np.zeros((int(TestData.shape[0]),1))\n",
    "    for X in TestData: #Note Test Data has a Column named Label which should not be considered for detection \n",
    "        detect(X,M0,V0,M1,V1,threshold)#EDIT \n",
    "       \n",
    "    TestData1 = np.hstack((TestData[:,0:2],decision))\n",
    "    dftest2 = pd.DataFrame(TestData1,columns=['Y0', 'Y1','label'])\n",
    "    "
   ]
  },
  {
   "cell_type": "markdown",
   "metadata": {},
   "source": [
    "After creating an algorithm and generating labels, one should update the original CSV file (in your own directory)."
   ]
  },
  {
   "cell_type": "code",
   "execution_count": 19,
   "metadata": {},
   "outputs": [],
   "source": [
    "Df = pd.concat([df0, df1, dftest2], join='outer', ignore_index=True)\n",
    "Df.to_csv(\"4challenge.csv\")"
   ]
  },
  {
   "cell_type": "markdown",
   "metadata": {},
   "source": [
    "You can then visualise the test data set. (Optional : You can also try to vary the threshold and see how the detection changes)"
   ]
  },
  {
   "cell_type": "code",
   "execution_count": null,
   "metadata": {},
   "outputs": [],
   "source": []
  }
 ],
 "metadata": {
  "kernelspec": {
   "display_name": "Python 3",
   "language": "python",
   "name": "python3"
  },
  "language_info": {
   "codemirror_mode": {
    "name": "ipython",
    "version": 3
   },
   "file_extension": ".py",
   "mimetype": "text/x-python",
   "name": "python",
   "nbconvert_exporter": "python",
   "pygments_lexer": "ipython3",
   "version": "3.7.1"
  }
 },
 "nbformat": 4,
 "nbformat_minor": 2
}
